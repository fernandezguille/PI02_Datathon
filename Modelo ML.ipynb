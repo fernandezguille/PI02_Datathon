{
 "cells": [
  {
   "attachments": {},
   "cell_type": "markdown",
   "metadata": {},
   "source": [
    "# Proyecto Individual 02 de Henry por Guillermo Fernandez"
   ]
  },
  {
   "attachments": {},
   "cell_type": "markdown",
   "metadata": {},
   "source": [
    "#### Importar librerías necesarias"
   ]
  },
  {
   "cell_type": "code",
   "execution_count": 1,
   "metadata": {},
   "outputs": [],
   "source": [
    "# Librería para trabajar con los datasets\n",
    "import pandas as pd\n",
    "import numpy as np\n",
    "\n",
    "# Módulo para trabajar con rutas de archivo\n",
    "from pathlib import Path\n",
    "\n",
    "# Librería para identificar encondings\n",
    "import chardet\n",
    "\n",
    "# Módulos para realizar modelos de Machine Learning\n",
    "from sklearn import preprocessing as pp\n",
    "from sklearn.tree import DecisionTreeClassifier\n",
    "\n",
    "# Módulo para evaluar chi2\n",
    "from scipy import stats\n",
    "\n",
    "# Módulos para separar los datasets\n",
    "from sklearn.model_selection import cross_validate\n",
    "from sklearn.model_selection import train_test_split\n",
    "\n",
    "# Módulos para medir los modelos\n",
    "from sklearn import metrics as met\n",
    "\n",
    "# Librerías para visualizar gráficos\n",
    "import seaborn as sns\n",
    "import matplotlib.pyplot as plt"
   ]
  },
  {
   "cell_type": "markdown",
   "metadata": {},
   "source": [
    "#### Crear una función para importar los datasets"
   ]
  },
  {
   "cell_type": "code",
   "execution_count": 2,
   "metadata": {},
   "outputs": [],
   "source": [
    "# Para importar archivos csv, detectando encoding\n",
    "def upload(filepath):\n",
    "    with open(filepath, 'rb') as file:\n",
    "        result = chardet.detect(file.read())\n",
    "        DF = pd.read_csv(filepath, encoding=result['encoding'])\n",
    "    return DF"
   ]
  },
  {
   "attachments": {},
   "cell_type": "markdown",
   "metadata": {},
   "source": [
    "#### Cargar y explorar el dataset"
   ]
  },
  {
   "cell_type": "code",
   "execution_count": 3,
   "metadata": {},
   "outputs": [],
   "source": [
    "# Cargamos ambos datasets\n",
    "Train_df = upload(r'C:\\Users\\eugen\\Documents\\Guille\\Bootcamp\\PI02_Datathon\\Datasets\\hospitalizaciones_train.csv')\n",
    "Test_df = upload(r'C:\\Users\\eugen\\Documents\\Guille\\Bootcamp\\PI02_Datathon\\Datasets\\hospitalizaciones_test.csv')"
   ]
  },
  {
   "cell_type": "code",
   "execution_count": 4,
   "metadata": {},
   "outputs": [],
   "source": [
    "# Aplicamos una función para renombrar las columnas, reemplazando espacios por guión bajo, y aplicando minúsculas\n",
    "Train_df.rename(lambda x : x.lower().strip().replace(' ','_'), axis = 1, inplace = True)\n",
    "Test_df.rename(lambda x : x.lower().strip().replace(' ','_'), axis = 1, inplace = True)"
   ]
  },
  {
   "cell_type": "code",
   "execution_count": 5,
   "metadata": {},
   "outputs": [],
   "source": [
    "# Guardamos el original y trabajamos con una copia\n",
    "Train_original = Train_df.copy()\n",
    "Test_original = Test_df.copy()"
   ]
  },
  {
   "cell_type": "code",
   "execution_count": 6,
   "metadata": {},
   "outputs": [
    {
     "data": {
      "text/html": [
       "<div>\n",
       "<style scoped>\n",
       "    .dataframe tbody tr th:only-of-type {\n",
       "        vertical-align: middle;\n",
       "    }\n",
       "\n",
       "    .dataframe tbody tr th {\n",
       "        vertical-align: top;\n",
       "    }\n",
       "\n",
       "    .dataframe thead th {\n",
       "        text-align: right;\n",
       "    }\n",
       "</style>\n",
       "<table border=\"1\" class=\"dataframe\">\n",
       "  <thead>\n",
       "    <tr style=\"text-align: right;\">\n",
       "      <th></th>\n",
       "      <th>available_extra_rooms_in_hospital</th>\n",
       "      <th>department</th>\n",
       "      <th>ward_facility_code</th>\n",
       "      <th>doctor_name</th>\n",
       "      <th>staff_available</th>\n",
       "      <th>patientid</th>\n",
       "      <th>age</th>\n",
       "      <th>gender</th>\n",
       "      <th>type_of_admission</th>\n",
       "      <th>severity_of_illness</th>\n",
       "      <th>health_conditions</th>\n",
       "      <th>visitors_with_patient</th>\n",
       "      <th>insurance</th>\n",
       "      <th>admission_deposit</th>\n",
       "      <th>stay_(in_days)</th>\n",
       "    </tr>\n",
       "  </thead>\n",
       "  <tbody>\n",
       "    <tr>\n",
       "      <th>75460</th>\n",
       "      <td>6</td>\n",
       "      <td>gynecology</td>\n",
       "      <td>D</td>\n",
       "      <td>Dr Olivia</td>\n",
       "      <td>0</td>\n",
       "      <td>43238</td>\n",
       "      <td>31-40</td>\n",
       "      <td>Female</td>\n",
       "      <td>Trauma</td>\n",
       "      <td>Moderate</td>\n",
       "      <td>None</td>\n",
       "      <td>4</td>\n",
       "      <td>Yes</td>\n",
       "      <td>4432.795433</td>\n",
       "      <td>8</td>\n",
       "    </tr>\n",
       "  </tbody>\n",
       "</table>\n",
       "</div>"
      ],
      "text/plain": [
       "       available_extra_rooms_in_hospital  department ward_facility_code  \\\n",
       "75460                                  6  gynecology                  D   \n",
       "\n",
       "      doctor_name  staff_available  patientid    age  gender  \\\n",
       "75460   Dr Olivia                0      43238  31-40  Female   \n",
       "\n",
       "      type_of_admission severity_of_illness health_conditions  \\\n",
       "75460            Trauma            Moderate              None   \n",
       "\n",
       "       visitors_with_patient insurance  admission_deposit  stay_(in_days)  \n",
       "75460                      4       Yes        4432.795433               8  "
      ]
     },
     "execution_count": 6,
     "metadata": {},
     "output_type": "execute_result"
    }
   ],
   "source": [
    "# Tomamos una fila al azar para analizarlo\n",
    "Train_df.sample(1)"
   ]
  },
  {
   "cell_type": "code",
   "execution_count": 7,
   "metadata": {},
   "outputs": [
    {
     "data": {
      "text/html": [
       "<div>\n",
       "<style scoped>\n",
       "    .dataframe tbody tr th:only-of-type {\n",
       "        vertical-align: middle;\n",
       "    }\n",
       "\n",
       "    .dataframe tbody tr th {\n",
       "        vertical-align: top;\n",
       "    }\n",
       "\n",
       "    .dataframe thead th {\n",
       "        text-align: right;\n",
       "    }\n",
       "</style>\n",
       "<table border=\"1\" class=\"dataframe\">\n",
       "  <thead>\n",
       "    <tr style=\"text-align: right;\">\n",
       "      <th></th>\n",
       "      <th>available_extra_rooms_in_hospital</th>\n",
       "      <th>department</th>\n",
       "      <th>ward_facility_code</th>\n",
       "      <th>doctor_name</th>\n",
       "      <th>staff_available</th>\n",
       "      <th>patientid</th>\n",
       "      <th>age</th>\n",
       "      <th>gender</th>\n",
       "      <th>type_of_admission</th>\n",
       "      <th>severity_of_illness</th>\n",
       "      <th>health_conditions</th>\n",
       "      <th>visitors_with_patient</th>\n",
       "      <th>insurance</th>\n",
       "      <th>admission_deposit</th>\n",
       "    </tr>\n",
       "  </thead>\n",
       "  <tbody>\n",
       "    <tr>\n",
       "      <th>6485</th>\n",
       "      <td>2</td>\n",
       "      <td>radiotherapy</td>\n",
       "      <td>A</td>\n",
       "      <td>Dr Sam</td>\n",
       "      <td>5</td>\n",
       "      <td>41347</td>\n",
       "      <td>61-70</td>\n",
       "      <td>Male</td>\n",
       "      <td>Trauma</td>\n",
       "      <td>Moderate</td>\n",
       "      <td>High Blood Pressure</td>\n",
       "      <td>2</td>\n",
       "      <td>Yes</td>\n",
       "      <td>4787.27663</td>\n",
       "    </tr>\n",
       "  </tbody>\n",
       "</table>\n",
       "</div>"
      ],
      "text/plain": [
       "      available_extra_rooms_in_hospital    department ward_facility_code  \\\n",
       "6485                                  2  radiotherapy                  A   \n",
       "\n",
       "     doctor_name  staff_available  patientid    age gender type_of_admission  \\\n",
       "6485      Dr Sam                5      41347  61-70   Male            Trauma   \n",
       "\n",
       "     severity_of_illness    health_conditions  visitors_with_patient  \\\n",
       "6485            Moderate  High Blood Pressure                      2   \n",
       "\n",
       "     insurance  admission_deposit  \n",
       "6485       Yes         4787.27663  "
      ]
     },
     "execution_count": 7,
     "metadata": {},
     "output_type": "execute_result"
    }
   ],
   "source": [
    "Test_df.sample(1)"
   ]
  },
  {
   "cell_type": "code",
   "execution_count": 8,
   "metadata": {},
   "outputs": [
    {
     "name": "stdout",
     "output_type": "stream",
     "text": [
      "<class 'pandas.core.frame.DataFrame'>\n",
      "RangeIndex: 410000 entries, 0 to 409999\n",
      "Data columns (total 15 columns):\n",
      " #   Column                             Non-Null Count   Dtype  \n",
      "---  ------                             --------------   -----  \n",
      " 0   available_extra_rooms_in_hospital  410000 non-null  int64  \n",
      " 1   department                         410000 non-null  object \n",
      " 2   ward_facility_code                 410000 non-null  object \n",
      " 3   doctor_name                        410000 non-null  object \n",
      " 4   staff_available                    410000 non-null  int64  \n",
      " 5   patientid                          410000 non-null  int64  \n",
      " 6   age                                410000 non-null  object \n",
      " 7   gender                             410000 non-null  object \n",
      " 8   type_of_admission                  410000 non-null  object \n",
      " 9   severity_of_illness                410000 non-null  object \n",
      " 10  health_conditions                  410000 non-null  object \n",
      " 11  visitors_with_patient              410000 non-null  int64  \n",
      " 12  insurance                          410000 non-null  object \n",
      " 13  admission_deposit                  410000 non-null  float64\n",
      " 14  stay_(in_days)                     410000 non-null  int64  \n",
      "dtypes: float64(1), int64(5), object(9)\n",
      "memory usage: 46.9+ MB\n"
     ]
    }
   ],
   "source": [
    "# Evaluamos información del dataset, como Dtype y nulos\n",
    "Train_df.info()"
   ]
  },
  {
   "cell_type": "code",
   "execution_count": 9,
   "metadata": {},
   "outputs": [
    {
     "name": "stdout",
     "output_type": "stream",
     "text": [
      "<class 'pandas.core.frame.DataFrame'>\n",
      "RangeIndex: 90000 entries, 0 to 89999\n",
      "Data columns (total 14 columns):\n",
      " #   Column                             Non-Null Count  Dtype  \n",
      "---  ------                             --------------  -----  \n",
      " 0   available_extra_rooms_in_hospital  90000 non-null  int64  \n",
      " 1   department                         90000 non-null  object \n",
      " 2   ward_facility_code                 90000 non-null  object \n",
      " 3   doctor_name                        90000 non-null  object \n",
      " 4   staff_available                    90000 non-null  int64  \n",
      " 5   patientid                          90000 non-null  int64  \n",
      " 6   age                                90000 non-null  object \n",
      " 7   gender                             90000 non-null  object \n",
      " 8   type_of_admission                  90000 non-null  object \n",
      " 9   severity_of_illness                90000 non-null  object \n",
      " 10  health_conditions                  90000 non-null  object \n",
      " 11  visitors_with_patient              90000 non-null  int64  \n",
      " 12  insurance                          90000 non-null  object \n",
      " 13  admission_deposit                  90000 non-null  float64\n",
      "dtypes: float64(1), int64(4), object(9)\n",
      "memory usage: 9.6+ MB\n"
     ]
    }
   ],
   "source": [
    "Test_df.info()"
   ]
  },
  {
   "attachments": {},
   "cell_type": "markdown",
   "metadata": {},
   "source": [
    "### Data Preprocessing"
   ]
  },
  {
   "attachments": {},
   "cell_type": "markdown",
   "metadata": {},
   "source": [
    "#### Feature relevante"
   ]
  },
  {
   "cell_type": "code",
   "execution_count": 10,
   "metadata": {},
   "outputs": [],
   "source": [
    "# Eliminamos los datos duplicados\n",
    "Train_df.drop_duplicates();\n",
    "Test_df.drop_duplicates();"
   ]
  },
  {
   "cell_type": "code",
   "execution_count": 11,
   "metadata": {},
   "outputs": [],
   "source": [
    "# Agregamos el feature que nos interesa predecir, si la estadía es prolongada\n",
    "Train_df['long_stay'] = (Train_df['stay_(in_days)'] > 8)\n",
    "Train_df['long_stay'].astype(str).replace({False: 0, True: 1})\n",
    "Train_df['long_stay'] = Train_df['long_stay'].astype(int)\n",
    "# Dropeamos la columna 'stay_(in_days)' para evitar redundancia\n",
    "Train_df.drop(columns='stay_(in_days)', inplace=True);"
   ]
  },
  {
   "cell_type": "code",
   "execution_count": 12,
   "metadata": {},
   "outputs": [
    {
     "data": {
      "text/html": [
       "<div>\n",
       "<style scoped>\n",
       "    .dataframe tbody tr th:only-of-type {\n",
       "        vertical-align: middle;\n",
       "    }\n",
       "\n",
       "    .dataframe tbody tr th {\n",
       "        vertical-align: top;\n",
       "    }\n",
       "\n",
       "    .dataframe thead th {\n",
       "        text-align: right;\n",
       "    }\n",
       "</style>\n",
       "<table border=\"1\" class=\"dataframe\">\n",
       "  <thead>\n",
       "    <tr style=\"text-align: right;\">\n",
       "      <th></th>\n",
       "      <th>available_extra_rooms_in_hospital</th>\n",
       "      <th>department</th>\n",
       "      <th>ward_facility_code</th>\n",
       "      <th>doctor_name</th>\n",
       "      <th>staff_available</th>\n",
       "      <th>patientid</th>\n",
       "      <th>age</th>\n",
       "      <th>gender</th>\n",
       "      <th>type_of_admission</th>\n",
       "      <th>severity_of_illness</th>\n",
       "      <th>health_conditions</th>\n",
       "      <th>visitors_with_patient</th>\n",
       "      <th>insurance</th>\n",
       "      <th>admission_deposit</th>\n",
       "      <th>long_stay</th>\n",
       "    </tr>\n",
       "  </thead>\n",
       "  <tbody>\n",
       "    <tr>\n",
       "      <th>386340</th>\n",
       "      <td>4</td>\n",
       "      <td>gynecology</td>\n",
       "      <td>F</td>\n",
       "      <td>Dr Sophia</td>\n",
       "      <td>10</td>\n",
       "      <td>94190</td>\n",
       "      <td>31-40</td>\n",
       "      <td>Female</td>\n",
       "      <td>Trauma</td>\n",
       "      <td>Moderate</td>\n",
       "      <td>Heart disease</td>\n",
       "      <td>4</td>\n",
       "      <td>Yes</td>\n",
       "      <td>4185.49919</td>\n",
       "      <td>0</td>\n",
       "    </tr>\n",
       "  </tbody>\n",
       "</table>\n",
       "</div>"
      ],
      "text/plain": [
       "        available_extra_rooms_in_hospital  department ward_facility_code  \\\n",
       "386340                                  4  gynecology                  F   \n",
       "\n",
       "       doctor_name  staff_available  patientid    age  gender  \\\n",
       "386340   Dr Sophia               10      94190  31-40  Female   \n",
       "\n",
       "       type_of_admission severity_of_illness health_conditions  \\\n",
       "386340            Trauma            Moderate     Heart disease   \n",
       "\n",
       "        visitors_with_patient insurance  admission_deposit  long_stay  \n",
       "386340                      4       Yes         4185.49919          0  "
      ]
     },
     "execution_count": 12,
     "metadata": {},
     "output_type": "execute_result"
    }
   ],
   "source": [
    "Train_df.sample(1)"
   ]
  },
  {
   "cell_type": "code",
   "execution_count": 13,
   "metadata": {},
   "outputs": [
    {
     "data": {
      "text/plain": [
       "1    255416\n",
       "0    154584\n",
       "Name: long_stay, dtype: int64"
      ]
     },
     "execution_count": 13,
     "metadata": {},
     "output_type": "execute_result"
    }
   ],
   "source": [
    "# Revisamos la cantidad de valores del feature agregado\n",
    "Train_df.long_stay.value_counts()"
   ]
  },
  {
   "attachments": {},
   "cell_type": "markdown",
   "metadata": {},
   "source": [
    "### Analizar correlación de acuerdo al P valor"
   ]
  },
  {
   "cell_type": "code",
   "execution_count": 14,
   "metadata": {},
   "outputs": [],
   "source": [
    "# Tomamos los nombres de todas las columnas\n",
    "list(Train_df.columns)[:-1];"
   ]
  },
  {
   "cell_type": "code",
   "execution_count": 15,
   "metadata": {},
   "outputs": [
    {
     "name": "stdout",
     "output_type": "stream",
     "text": [
      "available_extra_rooms_in_hospital: 0.0\n",
      "department: 0.0\n",
      "ward_facility_code: 0.0\n",
      "doctor_name: 0.0\n",
      "staff_available: 0.027185032657605284\n",
      "patientid: 0.29157056421547367\n",
      "age: 0.0\n",
      "gender: 0.0\n",
      "type_of_admission: 1.6947748596830503e-21\n",
      "severity_of_illness: 2.875013724138087e-130\n",
      "health_conditions: 5.6584831831517945e-09\n",
      "visitors_with_patient: 0.0\n",
      "insurance: 0.4988221951889673\n",
      "admission_deposit: 0.49327701140734725\n"
     ]
    }
   ],
   "source": [
    "# Evaluamos la correlación con la feature seleccionada de cada otra feature (no numérica)\n",
    "for elem in list(Train_df.columns)[:-1]:\n",
    "    P_valor = stats.chi2_contingency(np.array(pd.crosstab(Train_df[elem], Train_df.long_stay)))[1]\n",
    "    print(f'{elem}: {P_valor}')"
   ]
  },
  {
   "cell_type": "code",
   "execution_count": 16,
   "metadata": {},
   "outputs": [
    {
     "data": {
      "text/html": [
       "<div>\n",
       "<style scoped>\n",
       "    .dataframe tbody tr th:only-of-type {\n",
       "        vertical-align: middle;\n",
       "    }\n",
       "\n",
       "    .dataframe tbody tr th {\n",
       "        vertical-align: top;\n",
       "    }\n",
       "\n",
       "    .dataframe thead th {\n",
       "        text-align: right;\n",
       "    }\n",
       "</style>\n",
       "<table border=\"1\" class=\"dataframe\">\n",
       "  <thead>\n",
       "    <tr style=\"text-align: right;\">\n",
       "      <th></th>\n",
       "      <th>available_extra_rooms_in_hospital</th>\n",
       "      <th>staff_available</th>\n",
       "      <th>patientid</th>\n",
       "      <th>visitors_with_patient</th>\n",
       "      <th>admission_deposit</th>\n",
       "      <th>long_stay</th>\n",
       "    </tr>\n",
       "  </thead>\n",
       "  <tbody>\n",
       "    <tr>\n",
       "      <th>available_extra_rooms_in_hospital</th>\n",
       "      <td>1.000000</td>\n",
       "      <td>-0.003064</td>\n",
       "      <td>-0.005426</td>\n",
       "      <td>0.071073</td>\n",
       "      <td>-0.050775</td>\n",
       "      <td>0.053894</td>\n",
       "    </tr>\n",
       "    <tr>\n",
       "      <th>staff_available</th>\n",
       "      <td>-0.003064</td>\n",
       "      <td>1.000000</td>\n",
       "      <td>-0.000350</td>\n",
       "      <td>0.001444</td>\n",
       "      <td>0.000816</td>\n",
       "      <td>0.002883</td>\n",
       "    </tr>\n",
       "    <tr>\n",
       "      <th>patientid</th>\n",
       "      <td>-0.005426</td>\n",
       "      <td>-0.000350</td>\n",
       "      <td>1.000000</td>\n",
       "      <td>-0.006393</td>\n",
       "      <td>0.011602</td>\n",
       "      <td>-0.000532</td>\n",
       "    </tr>\n",
       "    <tr>\n",
       "      <th>visitors_with_patient</th>\n",
       "      <td>0.071073</td>\n",
       "      <td>0.001444</td>\n",
       "      <td>-0.006393</td>\n",
       "      <td>1.000000</td>\n",
       "      <td>-0.069566</td>\n",
       "      <td>-0.009529</td>\n",
       "    </tr>\n",
       "    <tr>\n",
       "      <th>admission_deposit</th>\n",
       "      <td>-0.050775</td>\n",
       "      <td>0.000816</td>\n",
       "      <td>0.011602</td>\n",
       "      <td>-0.069566</td>\n",
       "      <td>1.000000</td>\n",
       "      <td>-0.016650</td>\n",
       "    </tr>\n",
       "    <tr>\n",
       "      <th>long_stay</th>\n",
       "      <td>0.053894</td>\n",
       "      <td>0.002883</td>\n",
       "      <td>-0.000532</td>\n",
       "      <td>-0.009529</td>\n",
       "      <td>-0.016650</td>\n",
       "      <td>1.000000</td>\n",
       "    </tr>\n",
       "  </tbody>\n",
       "</table>\n",
       "</div>"
      ],
      "text/plain": [
       "                                   available_extra_rooms_in_hospital  \\\n",
       "available_extra_rooms_in_hospital                           1.000000   \n",
       "staff_available                                            -0.003064   \n",
       "patientid                                                  -0.005426   \n",
       "visitors_with_patient                                       0.071073   \n",
       "admission_deposit                                          -0.050775   \n",
       "long_stay                                                   0.053894   \n",
       "\n",
       "                                   staff_available  patientid  \\\n",
       "available_extra_rooms_in_hospital        -0.003064  -0.005426   \n",
       "staff_available                           1.000000  -0.000350   \n",
       "patientid                                -0.000350   1.000000   \n",
       "visitors_with_patient                     0.001444  -0.006393   \n",
       "admission_deposit                         0.000816   0.011602   \n",
       "long_stay                                 0.002883  -0.000532   \n",
       "\n",
       "                                   visitors_with_patient  admission_deposit  \\\n",
       "available_extra_rooms_in_hospital               0.071073          -0.050775   \n",
       "staff_available                                 0.001444           0.000816   \n",
       "patientid                                      -0.006393           0.011602   \n",
       "visitors_with_patient                           1.000000          -0.069566   \n",
       "admission_deposit                              -0.069566           1.000000   \n",
       "long_stay                                      -0.009529          -0.016650   \n",
       "\n",
       "                                   long_stay  \n",
       "available_extra_rooms_in_hospital   0.053894  \n",
       "staff_available                     0.002883  \n",
       "patientid                          -0.000532  \n",
       "visitors_with_patient              -0.009529  \n",
       "admission_deposit                  -0.016650  \n",
       "long_stay                           1.000000  "
      ]
     },
     "execution_count": 16,
     "metadata": {},
     "output_type": "execute_result"
    }
   ],
   "source": [
    "# Evaluamos la correlación con features numéricas\n",
    "Train_df.corr()"
   ]
  },
  {
   "attachments": {},
   "cell_type": "markdown",
   "metadata": {},
   "source": [
    "### Tratamiento de features"
   ]
  },
  {
   "attachments": {},
   "cell_type": "markdown",
   "metadata": {},
   "source": [
    "###### Se eliminan columnas que no tienen significado numérico y presentan ninguna correlación"
   ]
  },
  {
   "cell_type": "code",
   "execution_count": 17,
   "metadata": {},
   "outputs": [],
   "source": [
    "Train_df.drop(columns=['patientid', 'insurance'], inplace=True)\n",
    "Test_df.drop(columns=['patientid', 'insurance'], inplace=True)"
   ]
  },
  {
   "cell_type": "code",
   "execution_count": 18,
   "metadata": {},
   "outputs": [
    {
     "name": "stdout",
     "output_type": "stream",
     "text": [
      "available_extra_rooms_in_hospital\n",
      "        Train: 18 [ 0  1  2  3  4  5  6  7  8  9 10 11 12 13 14 20 21 24]\n",
      "        Test:  18 [ 0  1  2  3  4  5  6  7  8  9 10 11 12 13 14 20 21 24]\n",
      "Son iguales: True\n",
      "department\n",
      "        Train: 5 ['TB & Chest disease' 'anesthesia' 'gynecology' 'radiotherapy' 'surgery']\n",
      "        Test:  5 ['TB & Chest disease' 'anesthesia' 'gynecology' 'radiotherapy' 'surgery']\n",
      "Son iguales: True\n",
      "ward_facility_code\n",
      "        Train: 6 ['A' 'B' 'C' 'D' 'E' 'F']\n",
      "        Test:  6 ['A' 'B' 'C' 'D' 'E' 'F']\n",
      "Son iguales: True\n",
      "doctor_name\n",
      "        Train: 9 ['Dr Isaac' 'Dr John' 'Dr Mark' 'Dr Nathan' 'Dr Olivia' 'Dr Sam'\n",
      " 'Dr Sarah' 'Dr Simon' 'Dr Sophia']\n",
      "        Test:  9 ['Dr Isaac' 'Dr John' 'Dr Mark' 'Dr Nathan' 'Dr Olivia' 'Dr Sam'\n",
      " 'Dr Sarah' 'Dr Simon' 'Dr Sophia']\n",
      "Son iguales: True\n",
      "staff_available\n",
      "        Train: 11 [ 0  1  2  3  4  5  6  7  8  9 10]\n",
      "        Test:  11 [ 0  1  2  3  4  5  6  7  8  9 10]\n",
      "Son iguales: True\n",
      "age\n",
      "        Train: 10 ['0-10' '11-20' '21-30' '31-40' '41-50' '51-60' '61-70' '71-80' '81-90'\n",
      " '91-100']\n",
      "        Test:  10 ['0-10' '11-20' '21-30' '31-40' '41-50' '51-60' '61-70' '71-80' '81-90'\n",
      " '91-100']\n",
      "Son iguales: True\n",
      "gender\n",
      "        Train: 3 ['Female' 'Male' 'Other']\n",
      "        Test:  3 ['Female' 'Male' 'Other']\n",
      "Son iguales: True\n",
      "type_of_admission\n",
      "        Train: 3 ['Emergency' 'Trauma' 'Urgent']\n",
      "        Test:  3 ['Emergency' 'Trauma' 'Urgent']\n",
      "Son iguales: True\n",
      "severity_of_illness\n",
      "        Train: 3 ['Extreme' 'Minor' 'Moderate']\n",
      "        Test:  3 ['Extreme' 'Minor' 'Moderate']\n",
      "Son iguales: True\n",
      "health_conditions\n",
      "        Train: 6 ['Asthama' 'Diabetes' 'Heart disease' 'High Blood Pressure' 'None' 'Other']\n",
      "        Test:  6 ['Asthama' 'Diabetes' 'Heart disease' 'High Blood Pressure' 'None' 'Other']\n",
      "Son iguales: True\n",
      "visitors_with_patient\n",
      "        Train: 28 [ 0  1  2  3  4  5  6  7  8  9 10 11 12 13 14 15 16 17 18 19 20 21 22 23\n",
      " 24 25 30 32]\n",
      "        Test:  28 [ 0  1  2  3  4  5  6  7  8  9 10 11 12 13 14 15 16 17 18 19 20 21 22 23\n",
      " 24 25 30 32]\n",
      "Son iguales: True\n",
      "admission_deposit\n",
      "        Train: 409682 [ 1654.005148  1690.915275  1695.298618 ...  9897.655509  9899.192317\n",
      " 10104.72639 ]\n",
      "        Test:  89984 [1710.212495 1773.465559 1783.124428 ... 9616.622654 9759.69585\n",
      " 9872.650668]\n",
      "Son iguales: True\n"
     ]
    }
   ],
   "source": [
    "# Revisamos que las features en ambos datasets sean iguales\n",
    "for elem in list(Test_df.columns):\n",
    "    print(f'{elem}')\n",
    "    unicos_train, unicos_test = Train_df[elem].sort_values().unique(), Test_df[elem].sort_values().unique()\n",
    "    print(f'        Train: {len(unicos_train)} {unicos_train}')\n",
    "    print(f'        Test:  {len(unicos_test)} {unicos_test}')\n",
    "    print(f'Son iguales: {unicos_test.all() == unicos_train.all()}')"
   ]
  },
  {
   "attachments": {},
   "cell_type": "markdown",
   "metadata": {},
   "source": [
    "#### Recategorizar las variables"
   ]
  },
  {
   "cell_type": "code",
   "execution_count": 19,
   "metadata": {},
   "outputs": [],
   "source": [
    "# Utilizamos OneHotEncoder para modificar variables categóricas\n",
    "OHE = pp.OneHotEncoder(categories='auto')\n",
    "# Aplicamos a las columnas categóricas\n",
    "OHE_df = OHE.fit_transform(Train_df[['department', 'ward_facility_code', 'doctor_name', 'gender',\n",
    "                                     'type_of_admission', 'health_conditions']]).toarray()"
   ]
  },
  {
   "cell_type": "code",
   "execution_count": 20,
   "metadata": {},
   "outputs": [],
   "source": [
    "# Transformamos y unimos al DF original\n",
    "OHE_df = pd.DataFrame(OHE_df, columns=OHE.get_feature_names_out())\n",
    "Train_df = pd.concat([Train_df, OHE_df], axis=1)"
   ]
  },
  {
   "cell_type": "code",
   "execution_count": 21,
   "metadata": {},
   "outputs": [],
   "source": [
    "# Se eliminan las columnas que fueron transformadas\n",
    "Train_df.drop(columns = ['department', 'ward_facility_code', 'doctor_name', 'gender',\n",
    "                         'type_of_admission', 'health_conditions'], inplace = True)"
   ]
  },
  {
   "cell_type": "code",
   "execution_count": 22,
   "metadata": {},
   "outputs": [],
   "source": [
    "# Ahora hacemos similar pero con LabelEncoder\n",
    "LE = pp.LabelEncoder()\n",
    "Train_df.age = LE.fit_transform(Train_df.age)\n",
    "Train_df.severity_of_illness = LE.fit_transform(Train_df.severity_of_illness)"
   ]
  },
  {
   "cell_type": "code",
   "execution_count": 23,
   "metadata": {},
   "outputs": [
    {
     "data": {
      "text/html": [
       "<div>\n",
       "<style scoped>\n",
       "    .dataframe tbody tr th:only-of-type {\n",
       "        vertical-align: middle;\n",
       "    }\n",
       "\n",
       "    .dataframe tbody tr th {\n",
       "        vertical-align: top;\n",
       "    }\n",
       "\n",
       "    .dataframe thead th {\n",
       "        text-align: right;\n",
       "    }\n",
       "</style>\n",
       "<table border=\"1\" class=\"dataframe\">\n",
       "  <thead>\n",
       "    <tr style=\"text-align: right;\">\n",
       "      <th></th>\n",
       "      <th>available_extra_rooms_in_hospital</th>\n",
       "      <th>staff_available</th>\n",
       "      <th>age</th>\n",
       "      <th>severity_of_illness</th>\n",
       "      <th>visitors_with_patient</th>\n",
       "      <th>admission_deposit</th>\n",
       "      <th>long_stay</th>\n",
       "      <th>department_TB &amp; Chest disease</th>\n",
       "      <th>department_anesthesia</th>\n",
       "      <th>department_gynecology</th>\n",
       "      <th>...</th>\n",
       "      <th>gender_Other</th>\n",
       "      <th>type_of_admission_Emergency</th>\n",
       "      <th>type_of_admission_Trauma</th>\n",
       "      <th>type_of_admission_Urgent</th>\n",
       "      <th>health_conditions_Asthama</th>\n",
       "      <th>health_conditions_Diabetes</th>\n",
       "      <th>health_conditions_Heart disease</th>\n",
       "      <th>health_conditions_High Blood Pressure</th>\n",
       "      <th>health_conditions_None</th>\n",
       "      <th>health_conditions_Other</th>\n",
       "    </tr>\n",
       "  </thead>\n",
       "  <tbody>\n",
       "    <tr>\n",
       "      <th>82085</th>\n",
       "      <td>4</td>\n",
       "      <td>4</td>\n",
       "      <td>3</td>\n",
       "      <td>2</td>\n",
       "      <td>10</td>\n",
       "      <td>4060.197564</td>\n",
       "      <td>0</td>\n",
       "      <td>0.0</td>\n",
       "      <td>0.0</td>\n",
       "      <td>1.0</td>\n",
       "      <td>...</td>\n",
       "      <td>0.0</td>\n",
       "      <td>0.0</td>\n",
       "      <td>1.0</td>\n",
       "      <td>0.0</td>\n",
       "      <td>0.0</td>\n",
       "      <td>1.0</td>\n",
       "      <td>0.0</td>\n",
       "      <td>0.0</td>\n",
       "      <td>0.0</td>\n",
       "      <td>0.0</td>\n",
       "    </tr>\n",
       "  </tbody>\n",
       "</table>\n",
       "<p>1 rows × 39 columns</p>\n",
       "</div>"
      ],
      "text/plain": [
       "       available_extra_rooms_in_hospital  staff_available  age  \\\n",
       "82085                                  4                4    3   \n",
       "\n",
       "       severity_of_illness  visitors_with_patient  admission_deposit  \\\n",
       "82085                    2                     10        4060.197564   \n",
       "\n",
       "       long_stay  department_TB & Chest disease  department_anesthesia  \\\n",
       "82085          0                            0.0                    0.0   \n",
       "\n",
       "       department_gynecology  ...  gender_Other  type_of_admission_Emergency  \\\n",
       "82085                    1.0  ...           0.0                          0.0   \n",
       "\n",
       "       type_of_admission_Trauma  type_of_admission_Urgent  \\\n",
       "82085                       1.0                       0.0   \n",
       "\n",
       "       health_conditions_Asthama  health_conditions_Diabetes  \\\n",
       "82085                        0.0                         1.0   \n",
       "\n",
       "       health_conditions_Heart disease  health_conditions_High Blood Pressure  \\\n",
       "82085                              0.0                                    0.0   \n",
       "\n",
       "       health_conditions_None  health_conditions_Other  \n",
       "82085                     0.0                      0.0  \n",
       "\n",
       "[1 rows x 39 columns]"
      ]
     },
     "execution_count": 23,
     "metadata": {},
     "output_type": "execute_result"
    }
   ],
   "source": [
    "Train_df.sample(1)"
   ]
  },
  {
   "cell_type": "code",
   "execution_count": 24,
   "metadata": {},
   "outputs": [],
   "source": [
    "# Repetimos para el set de testeo\n",
    "OHE_df = OHE.fit_transform(Test_df[['department', 'ward_facility_code', 'doctor_name', 'gender',\n",
    "                                     'type_of_admission', 'health_conditions']]).toarray()\n",
    "OHE_df = pd.DataFrame(OHE_df, columns=OHE.get_feature_names_out())\n",
    "Test_df = pd.concat([Test_df, OHE_df], axis=1)\n",
    "Test_df.drop(columns = ['department', 'ward_facility_code', 'doctor_name', 'gender',\n",
    "                         'type_of_admission', 'health_conditions'], inplace = True)\n",
    "Test_df.age = LE.fit_transform(Test_df.age)\n",
    "Test_df.severity_of_illness = LE.fit_transform(Test_df.severity_of_illness)\n"
   ]
  },
  {
   "attachments": {},
   "cell_type": "markdown",
   "metadata": {},
   "source": [
    "## Modelado"
   ]
  },
  {
   "attachments": {},
   "cell_type": "markdown",
   "metadata": {},
   "source": [
    "### Árbol de desición"
   ]
  },
  {
   "cell_type": "code",
   "execution_count": 39,
   "metadata": {},
   "outputs": [],
   "source": [
    "# Consideramos un árbol de desición para realizar la predicción\n",
    "X = Train_df.drop(columns=['long_stay'])\n",
    "y = Train_df.long_stay"
   ]
  },
  {
   "cell_type": "code",
   "execution_count": 26,
   "metadata": {},
   "outputs": [
    {
     "name": "stdout",
     "output_type": "stream",
     "text": [
      "Arbol nivel 1 listo!\n",
      "Arbol nivel 2 listo!\n",
      "Arbol nivel 3 listo!\n",
      "Arbol nivel 4 listo!\n",
      "Arbol nivel 5 listo!\n",
      "Arbol nivel 6 listo!\n",
      "Arbol nivel 7 listo!\n",
      "Arbol nivel 8 listo!\n",
      "Arbol nivel 9 listo!\n",
      "Arbol nivel 10 listo!\n",
      "Arbol nivel 11 listo!\n",
      "Arbol nivel 12 listo!\n",
      "Arbol nivel 13 listo!\n",
      "Arbol nivel 14 listo!\n",
      "Arbol nivel 15 listo!\n",
      "Arbol nivel 16 listo!\n",
      "Arbol nivel 17 listo!\n",
      "Arbol nivel 18 listo!\n",
      "Arbol nivel 19 listo!\n",
      "Arbol nivel 20 listo!\n",
      "Arbol nivel 21 listo!\n",
      "Arbol nivel 22 listo!\n",
      "Arbol nivel 23 listo!\n",
      "Arbol nivel 24 listo!\n"
     ]
    }
   ],
   "source": [
    "# Realizamos una iteración para evaluar la profundidad óptima del árbol\n",
    "tree_train_scores_mean = []\n",
    "tree_train_scores_std = []\n",
    "# Iniciamos listas para guardar los valores\n",
    "tree_test_scores_mean = []\n",
    "tree_test_scores_std = []\n",
    "# Consideramos 25 como profundidad máxima\n",
    "profundidades = np.arange(1,25,1)\n",
    "\n",
    "for profundidad in profundidades:\n",
    "    # Instanciamos el arbol\n",
    "    clf = DecisionTreeClassifier(max_depth=profundidad,criterion=\"entropy\")\n",
    "    # Realizamos tres pruebas gracias al metodo cross_validate\n",
    "    tree_scores = cross_validate(clf, X, y, cv=3, return_train_score=True, n_jobs = -1)\n",
    "    # Guardamos los valores tanto del entrenamiento como del test\n",
    "    tree_train_scores_mean.append(tree_scores['train_score'].mean())\n",
    "    tree_train_scores_std.append(tree_scores['train_score'].std())\n",
    "    \n",
    "    tree_test_scores_mean.append(tree_scores['test_score'].mean())\n",
    "    tree_test_scores_std.append(tree_scores['test_score'].std())\n",
    "    print(f'Arbol nivel {profundidad} listo!')\n",
    "#Transformamos los valores para poder graficarlos\n",
    "tree_train_scores_mean = np.array(tree_train_scores_mean)\n",
    "tree_train_scores_std = np.array(tree_train_scores_std)\n",
    "tree_test_scores_mean = np.array(tree_test_scores_mean)\n",
    "tree_test_scores_std = np.array(tree_test_scores_std)"
   ]
  },
  {
   "cell_type": "code",
   "execution_count": 27,
   "metadata": {},
   "outputs": [
    {
     "data": {
      "image/png": "[encoded data removed]",
      "text/plain": [
       "<Figure size 432x288 with 1 Axes>"
      ]
     },
     "metadata": {
      "needs_background": "light"
     },
     "output_type": "display_data"
    }
   ],
   "source": [
    "# Ploteamos los resultados\n",
    "plt.fill_between(profundidades, tree_train_scores_mean - tree_train_scores_std,\n",
    "                 tree_train_scores_mean + tree_train_scores_std, alpha=0.1,\n",
    "                 color=\"r\")\n",
    "plt.fill_between(profundidades, tree_test_scores_mean - tree_test_scores_std,\n",
    "                 tree_test_scores_mean + tree_test_scores_std, alpha=0.1, color=\"g\")\n",
    "\n",
    "plt.plot(profundidades, tree_train_scores_mean, 'o-', color=\"r\",\n",
    "         label=\"Training score\")\n",
    "plt.plot(profundidades, tree_test_scores_mean, 'o-', color=\"g\",\n",
    "         label=\"Test score\")\n",
    "\n",
    "plt.legend()\n",
    "plt.grid()\n",
    "plt.ylabel('Accuracy')\n",
    "plt.xlabel('Profundidad Arbol de Decision')\n",
    "plt.show()"
   ]
  },
  {
   "attachments": {},
   "cell_type": "markdown",
   "metadata": {},
   "source": [
    "##### De acuerdo a lo ensayado, tomar la profundidad óptima y medir"
   ]
  },
  {
   "cell_type": "code",
   "execution_count": 40,
   "metadata": {},
   "outputs": [
    {
     "name": "stdout",
     "output_type": "stream",
     "text": [
      "              precision    recall  f1-score   support\n",
      "\n",
      "           0       0.69      0.63      0.66     38805\n",
      "           1       0.79      0.83      0.81     63695\n",
      "\n",
      "    accuracy                           0.75    102500\n",
      "   macro avg       0.74      0.73      0.73    102500\n",
      "weighted avg       0.75      0.75      0.75    102500\n",
      "\n"
     ]
    }
   ],
   "source": [
    "clf = DecisionTreeClassifier(max_depth=15,criterion=\"entropy\")\n",
    "X_Train, X_Test, Y_Train, Y_Test = train_test_split(X, y, test_size = 0.25, random_state=21)\n",
    "clf.fit(X_Train.values, Y_Train.values)\n",
    "Y_pred = clf.predict(X_Test.values)\n",
    "print(met.classification_report(Y_Test, Y_pred))"
   ]
  },
  {
   "cell_type": "code",
   "execution_count": 41,
   "metadata": {},
   "outputs": [
    {
     "data": {
      "text/plain": [
       "array([[24453, 14352],\n",
       "       [10902, 52793]], dtype=int64)"
      ]
     },
     "execution_count": 41,
     "metadata": {},
     "output_type": "execute_result"
    },
    {
     "data": {
      "image/png": "[encoded data removed]",
      "text/plain": [
       "<Figure size 432x288 with 2 Axes>"
      ]
     },
     "metadata": {
      "needs_background": "light"
     },
     "output_type": "display_data"
    }
   ],
   "source": [
    "sns.heatmap(met.confusion_matrix(Y_Test, Y_pred),annot=True)\n",
    "met.confusion_matrix(Y_Test, Y_pred)"
   ]
  },
  {
   "attachments": {},
   "cell_type": "markdown",
   "metadata": {},
   "source": [
    "## Predicción"
   ]
  },
  {
   "cell_type": "code",
   "execution_count": 46,
   "metadata": {},
   "outputs": [],
   "source": [
    "# Realizamos la predicción para el dataset Test\n",
    "X = Test_df\n",
    "y_pred = clf.predict(X.values)"
   ]
  },
  {
   "cell_type": "code",
   "execution_count": 47,
   "metadata": {},
   "outputs": [
    {
     "data": {
      "text/plain": [
       "(90000,)"
      ]
     },
     "execution_count": 47,
     "metadata": {},
     "output_type": "execute_result"
    }
   ],
   "source": [
    "# Evaluamos la cantidad de datos\n",
    "y_pred.shape"
   ]
  },
  {
   "cell_type": "code",
   "execution_count": 48,
   "metadata": {},
   "outputs": [],
   "source": [
    "# Asignamos los datos al dataset\n",
    "Test_df['pred'] = y_pred"
   ]
  },
  {
   "cell_type": "code",
   "execution_count": 49,
   "metadata": {},
   "outputs": [
    {
     "data": {
      "text/html": [
       "<div>\n",
       "<style scoped>\n",
       "    .dataframe tbody tr th:only-of-type {\n",
       "        vertical-align: middle;\n",
       "    }\n",
       "\n",
       "    .dataframe tbody tr th {\n",
       "        vertical-align: top;\n",
       "    }\n",
       "\n",
       "    .dataframe thead th {\n",
       "        text-align: right;\n",
       "    }\n",
       "</style>\n",
       "<table border=\"1\" class=\"dataframe\">\n",
       "  <thead>\n",
       "    <tr style=\"text-align: right;\">\n",
       "      <th></th>\n",
       "      <th>available_extra_rooms_in_hospital</th>\n",
       "      <th>staff_available</th>\n",
       "      <th>age</th>\n",
       "      <th>severity_of_illness</th>\n",
       "      <th>visitors_with_patient</th>\n",
       "      <th>admission_deposit</th>\n",
       "      <th>department_TB &amp; Chest disease</th>\n",
       "      <th>department_anesthesia</th>\n",
       "      <th>department_gynecology</th>\n",
       "      <th>department_radiotherapy</th>\n",
       "      <th>...</th>\n",
       "      <th>type_of_admission_Emergency</th>\n",
       "      <th>type_of_admission_Trauma</th>\n",
       "      <th>type_of_admission_Urgent</th>\n",
       "      <th>health_conditions_Asthama</th>\n",
       "      <th>health_conditions_Diabetes</th>\n",
       "      <th>health_conditions_Heart disease</th>\n",
       "      <th>health_conditions_High Blood Pressure</th>\n",
       "      <th>health_conditions_None</th>\n",
       "      <th>health_conditions_Other</th>\n",
       "      <th>pred</th>\n",
       "    </tr>\n",
       "  </thead>\n",
       "  <tbody>\n",
       "    <tr>\n",
       "      <th>67064</th>\n",
       "      <td>2</td>\n",
       "      <td>9</td>\n",
       "      <td>4</td>\n",
       "      <td>2</td>\n",
       "      <td>2</td>\n",
       "      <td>4890.181097</td>\n",
       "      <td>0.0</td>\n",
       "      <td>0.0</td>\n",
       "      <td>0.0</td>\n",
       "      <td>1.0</td>\n",
       "      <td>...</td>\n",
       "      <td>0.0</td>\n",
       "      <td>1.0</td>\n",
       "      <td>0.0</td>\n",
       "      <td>1.0</td>\n",
       "      <td>0.0</td>\n",
       "      <td>0.0</td>\n",
       "      <td>0.0</td>\n",
       "      <td>0.0</td>\n",
       "      <td>0.0</td>\n",
       "      <td>0</td>\n",
       "    </tr>\n",
       "    <tr>\n",
       "      <th>24157</th>\n",
       "      <td>3</td>\n",
       "      <td>2</td>\n",
       "      <td>2</td>\n",
       "      <td>2</td>\n",
       "      <td>2</td>\n",
       "      <td>4390.938217</td>\n",
       "      <td>0.0</td>\n",
       "      <td>0.0</td>\n",
       "      <td>1.0</td>\n",
       "      <td>0.0</td>\n",
       "      <td>...</td>\n",
       "      <td>1.0</td>\n",
       "      <td>0.0</td>\n",
       "      <td>0.0</td>\n",
       "      <td>0.0</td>\n",
       "      <td>0.0</td>\n",
       "      <td>0.0</td>\n",
       "      <td>0.0</td>\n",
       "      <td>0.0</td>\n",
       "      <td>1.0</td>\n",
       "      <td>1</td>\n",
       "    </tr>\n",
       "    <tr>\n",
       "      <th>23707</th>\n",
       "      <td>3</td>\n",
       "      <td>7</td>\n",
       "      <td>7</td>\n",
       "      <td>2</td>\n",
       "      <td>2</td>\n",
       "      <td>3872.951447</td>\n",
       "      <td>0.0</td>\n",
       "      <td>0.0</td>\n",
       "      <td>0.0</td>\n",
       "      <td>1.0</td>\n",
       "      <td>...</td>\n",
       "      <td>1.0</td>\n",
       "      <td>0.0</td>\n",
       "      <td>0.0</td>\n",
       "      <td>0.0</td>\n",
       "      <td>0.0</td>\n",
       "      <td>0.0</td>\n",
       "      <td>0.0</td>\n",
       "      <td>1.0</td>\n",
       "      <td>0.0</td>\n",
       "      <td>1</td>\n",
       "    </tr>\n",
       "    <tr>\n",
       "      <th>19992</th>\n",
       "      <td>3</td>\n",
       "      <td>4</td>\n",
       "      <td>7</td>\n",
       "      <td>2</td>\n",
       "      <td>2</td>\n",
       "      <td>4476.634400</td>\n",
       "      <td>0.0</td>\n",
       "      <td>0.0</td>\n",
       "      <td>0.0</td>\n",
       "      <td>1.0</td>\n",
       "      <td>...</td>\n",
       "      <td>1.0</td>\n",
       "      <td>0.0</td>\n",
       "      <td>0.0</td>\n",
       "      <td>0.0</td>\n",
       "      <td>0.0</td>\n",
       "      <td>0.0</td>\n",
       "      <td>0.0</td>\n",
       "      <td>1.0</td>\n",
       "      <td>0.0</td>\n",
       "      <td>1</td>\n",
       "    </tr>\n",
       "    <tr>\n",
       "      <th>14781</th>\n",
       "      <td>3</td>\n",
       "      <td>7</td>\n",
       "      <td>1</td>\n",
       "      <td>2</td>\n",
       "      <td>4</td>\n",
       "      <td>4149.366961</td>\n",
       "      <td>0.0</td>\n",
       "      <td>0.0</td>\n",
       "      <td>1.0</td>\n",
       "      <td>0.0</td>\n",
       "      <td>...</td>\n",
       "      <td>0.0</td>\n",
       "      <td>0.0</td>\n",
       "      <td>1.0</td>\n",
       "      <td>1.0</td>\n",
       "      <td>0.0</td>\n",
       "      <td>0.0</td>\n",
       "      <td>0.0</td>\n",
       "      <td>0.0</td>\n",
       "      <td>0.0</td>\n",
       "      <td>1</td>\n",
       "    </tr>\n",
       "  </tbody>\n",
       "</table>\n",
       "<p>5 rows × 39 columns</p>\n",
       "</div>"
      ],
      "text/plain": [
       "       available_extra_rooms_in_hospital  staff_available  age  \\\n",
       "67064                                  2                9    4   \n",
       "24157                                  3                2    2   \n",
       "23707                                  3                7    7   \n",
       "19992                                  3                4    7   \n",
       "14781                                  3                7    1   \n",
       "\n",
       "       severity_of_illness  visitors_with_patient  admission_deposit  \\\n",
       "67064                    2                      2        4890.181097   \n",
       "24157                    2                      2        4390.938217   \n",
       "23707                    2                      2        3872.951447   \n",
       "19992                    2                      2        4476.634400   \n",
       "14781                    2                      4        4149.366961   \n",
       "\n",
       "       department_TB & Chest disease  department_anesthesia  \\\n",
       "67064                            0.0                    0.0   \n",
       "24157                            0.0                    0.0   \n",
       "23707                            0.0                    0.0   \n",
       "19992                            0.0                    0.0   \n",
       "14781                            0.0                    0.0   \n",
       "\n",
       "       department_gynecology  department_radiotherapy  ...  \\\n",
       "67064                    0.0                      1.0  ...   \n",
       "24157                    1.0                      0.0  ...   \n",
       "23707                    0.0                      1.0  ...   \n",
       "19992                    0.0                      1.0  ...   \n",
       "14781                    1.0                      0.0  ...   \n",
       "\n",
       "       type_of_admission_Emergency  type_of_admission_Trauma  \\\n",
       "67064                          0.0                       1.0   \n",
       "24157                          1.0                       0.0   \n",
       "23707                          1.0                       0.0   \n",
       "19992                          1.0                       0.0   \n",
       "14781                          0.0                       0.0   \n",
       "\n",
       "       type_of_admission_Urgent  health_conditions_Asthama  \\\n",
       "67064                       0.0                        1.0   \n",
       "24157                       0.0                        0.0   \n",
       "23707                       0.0                        0.0   \n",
       "19992                       0.0                        0.0   \n",
       "14781                       1.0                        1.0   \n",
       "\n",
       "       health_conditions_Diabetes  health_conditions_Heart disease  \\\n",
       "67064                         0.0                              0.0   \n",
       "24157                         0.0                              0.0   \n",
       "23707                         0.0                              0.0   \n",
       "19992                         0.0                              0.0   \n",
       "14781                         0.0                              0.0   \n",
       "\n",
       "       health_conditions_High Blood Pressure  health_conditions_None  \\\n",
       "67064                                    0.0                     0.0   \n",
       "24157                                    0.0                     0.0   \n",
       "23707                                    0.0                     1.0   \n",
       "19992                                    0.0                     1.0   \n",
       "14781                                    0.0                     0.0   \n",
       "\n",
       "       health_conditions_Other  pred  \n",
       "67064                      0.0     0  \n",
       "24157                      1.0     1  \n",
       "23707                      0.0     1  \n",
       "19992                      0.0     1  \n",
       "14781                      0.0     1  \n",
       "\n",
       "[5 rows x 39 columns]"
      ]
     },
     "execution_count": 49,
     "metadata": {},
     "output_type": "execute_result"
    }
   ],
   "source": [
    "# Revisamos los resultados obtenidos\n",
    "Test_df.sample(5)"
   ]
  },
  {
   "cell_type": "code",
   "execution_count": 50,
   "metadata": {},
   "outputs": [
    {
     "data": {
      "text/plain": [
       "1    59320\n",
       "0    30680\n",
       "Name: pred, dtype: int64"
      ]
     },
     "execution_count": 50,
     "metadata": {},
     "output_type": "execute_result"
    }
   ],
   "source": [
    "# Contamos la cantidad de resultados\n",
    "Test_df.pred.value_counts()"
   ]
  },
  {
   "cell_type": "code",
   "execution_count": 51,
   "metadata": {},
   "outputs": [],
   "source": [
    "# Tomamos únicamente la columna con las predicciones\n",
    "result = Test_df.pred"
   ]
  },
  {
   "cell_type": "code",
   "execution_count": 52,
   "metadata": {},
   "outputs": [],
   "source": [
    "# Exportamos la columna a un csv de acuerdo a la consigna del proyecto\n",
    "result.to_csv(r'C:\\Users\\eugen\\Documents\\Guille\\Bootcamp\\PI02_Datathon\\Datasets\\fernandezguille.csv', index=False)"
   ]
  },
  {
   "attachments": {},
   "cell_type": "markdown",
   "metadata": {},
   "source": [
    "## Conclusiones finales"
   ]
  },
  {
   "attachments": {},
   "cell_type": "markdown",
   "metadata": {},
   "source": [
    "Luego de realizar varias pruebas, con diferentes métodos (dummies, OHE, LE), este modelo fue el que mejor accuracy y recall tuvo, sin tener overfitting.  \n",
    "Muchas de las columnas tenían una relación con la estadía, como se vió con el P_valor, pero el resultado solo mejora un poco a comparación de realizar el árbol con sólo 3 features.\n",
    "Al recibir el feedback del modelo, los valores logrados de las métricas son:\n",
    "+ Accuracy: 0.7512\n",
    "+ Recall:   0.7847"
   ]
  }
 ],
 "metadata": {
  "kernelspec": {
   "display_name": "Python 3",
   "language": "python",
   "name": "python3"
  },
  "language_info": {
   "codemirror_mode": {
    "name": "ipython",
    "version": 3
   },
   "file_extension": ".py",
   "mimetype": "text/x-python",
   "name": "python",
   "nbconvert_exporter": "python",
   "pygments_lexer": "ipython3",
   "version": "3.10.5"
  },
  "orig_nbformat": 4,
  "vscode": {
   "interpreter": {
    "hash": "8030d4c8b54922542ddcca872d6eaa3b90843e3fd85d80bb02c262de6532e63b"
   }
  }
 },
 "nbformat": 4,
 "nbformat_minor": 2
}
