{
 "cells": [
  {
   "attachments": {},
   "cell_type": "markdown",
   "metadata": {},
   "source": [
    "# Proyecto Individual 02 de Henry por Guillermo Fernandez"
   ]
  },
  {
   "attachments": {},
   "cell_type": "markdown",
   "metadata": {},
   "source": [
    "#### Importar librerías necesarias"
   ]
  },
  {
   "cell_type": "code",
   "execution_count": 134,
   "metadata": {},
   "outputs": [],
   "source": [
    "# Librería para trabajar con los datasets\n",
    "import pandas as pd\n",
    "import numpy as np\n",
    "\n",
    "# Módulo para trabajar con rutas de archivo\n",
    "from pathlib import Path\n",
    "\n",
    "# Librería para identificar encondings\n",
    "import chardet\n",
    "\n",
    "# Módulos para realizar modelos de Machine Learning\n",
    "from sklearn import preprocessing as pp\n",
    "from sklearn.tree import DecisionTreeClassifier\n",
    "from sklearn.model_selection import cross_validate\n",
    "\n",
    "# Módulos para medir los modelos\n",
    "from sklearn.metrics import classification_report\n",
    "\n",
    "# Librerías para visualizar gráficos\n",
    "import seaborn as sns\n",
    "import matplotlib.pyplot as plt"
   ]
  },
  {
   "cell_type": "markdown",
   "metadata": {},
   "source": [
    "#### Crear una función para importar los datasets"
   ]
  },
  {
   "cell_type": "code",
   "execution_count": 2,
   "metadata": {},
   "outputs": [],
   "source": [
    "# Para importar archivos csv, detectando encoding\n",
    "def upload(filepath):\n",
    "    with open(filepath, 'rb') as file:\n",
    "        result = chardet.detect(file.read())\n",
    "        DF = pd.read_csv(filepath, encoding=result['encoding'])\n",
    "    return DF"
   ]
  },
  {
   "attachments": {},
   "cell_type": "markdown",
   "metadata": {},
   "source": [
    "#### Cargar y explorar el dataset"
   ]
  },
  {
   "cell_type": "code",
   "execution_count": 3,
   "metadata": {},
   "outputs": [],
   "source": [
    "# Cargamos ambos datasets\n",
    "Train_df = upload(r'C:\\Users\\eugen\\Documents\\Guille\\Bootcamp\\PI02_Datathon\\Datasets\\hospitalizaciones_train.csv')\n",
    "Test_df = upload(r'C:\\Users\\eugen\\Documents\\Guille\\Bootcamp\\PI02_Datathon\\Datasets\\hospitalizaciones_test.csv')"
   ]
  },
  {
   "cell_type": "code",
   "execution_count": 4,
   "metadata": {},
   "outputs": [],
   "source": [
    "# Aplicamos una función para renombrar las columnas, reemplazando espacios por guión bajo, y aplicando minúsculas\n",
    "Train_df.rename(lambda x : x.lower().strip().replace(' ','_'), axis = 1, inplace = True)\n",
    "Test_df.rename(lambda x : x.lower().strip().replace(' ','_'), axis = 1, inplace = True)"
   ]
  },
  {
   "cell_type": "code",
   "execution_count": 5,
   "metadata": {},
   "outputs": [],
   "source": [
    "# Guardamos el original y trabajamos con una copia\n",
    "Train_original = Train_df\n",
    "Test_original = Test_df"
   ]
  },
  {
   "cell_type": "code",
   "execution_count": 6,
   "metadata": {},
   "outputs": [
    {
     "data": {
      "text/html": [
       "<div>\n",
       "<style scoped>\n",
       "    .dataframe tbody tr th:only-of-type {\n",
       "        vertical-align: middle;\n",
       "    }\n",
       "\n",
       "    .dataframe tbody tr th {\n",
       "        vertical-align: top;\n",
       "    }\n",
       "\n",
       "    .dataframe thead th {\n",
       "        text-align: right;\n",
       "    }\n",
       "</style>\n",
       "<table border=\"1\" class=\"dataframe\">\n",
       "  <thead>\n",
       "    <tr style=\"text-align: right;\">\n",
       "      <th></th>\n",
       "      <th>available_extra_rooms_in_hospital</th>\n",
       "      <th>department</th>\n",
       "      <th>ward_facility_code</th>\n",
       "      <th>doctor_name</th>\n",
       "      <th>staff_available</th>\n",
       "      <th>patientid</th>\n",
       "      <th>age</th>\n",
       "      <th>gender</th>\n",
       "      <th>type_of_admission</th>\n",
       "      <th>severity_of_illness</th>\n",
       "      <th>health_conditions</th>\n",
       "      <th>visitors_with_patient</th>\n",
       "      <th>insurance</th>\n",
       "      <th>admission_deposit</th>\n",
       "      <th>stay_(in_days)</th>\n",
       "    </tr>\n",
       "  </thead>\n",
       "  <tbody>\n",
       "    <tr>\n",
       "      <th>296416</th>\n",
       "      <td>5</td>\n",
       "      <td>anesthesia</td>\n",
       "      <td>C</td>\n",
       "      <td>Dr Mark</td>\n",
       "      <td>7</td>\n",
       "      <td>97462</td>\n",
       "      <td>61-70</td>\n",
       "      <td>Male</td>\n",
       "      <td>Emergency</td>\n",
       "      <td>Moderate</td>\n",
       "      <td>Diabetes</td>\n",
       "      <td>4</td>\n",
       "      <td>No</td>\n",
       "      <td>4473.296295</td>\n",
       "      <td>31</td>\n",
       "    </tr>\n",
       "  </tbody>\n",
       "</table>\n",
       "</div>"
      ],
      "text/plain": [
       "        available_extra_rooms_in_hospital  department ward_facility_code  \\\n",
       "296416                                  5  anesthesia                  C   \n",
       "\n",
       "       doctor_name  staff_available  patientid    age gender  \\\n",
       "296416     Dr Mark                7      97462  61-70   Male   \n",
       "\n",
       "       type_of_admission severity_of_illness health_conditions  \\\n",
       "296416         Emergency            Moderate          Diabetes   \n",
       "\n",
       "        visitors_with_patient insurance  admission_deposit  stay_(in_days)  \n",
       "296416                      4        No        4473.296295              31  "
      ]
     },
     "execution_count": 6,
     "metadata": {},
     "output_type": "execute_result"
    }
   ],
   "source": [
    "# Tomamos una fila al azar para analizarlo\n",
    "Train_df.sample(1)"
   ]
  },
  {
   "cell_type": "code",
   "execution_count": 7,
   "metadata": {},
   "outputs": [
    {
     "data": {
      "text/html": [
       "<div>\n",
       "<style scoped>\n",
       "    .dataframe tbody tr th:only-of-type {\n",
       "        vertical-align: middle;\n",
       "    }\n",
       "\n",
       "    .dataframe tbody tr th {\n",
       "        vertical-align: top;\n",
       "    }\n",
       "\n",
       "    .dataframe thead th {\n",
       "        text-align: right;\n",
       "    }\n",
       "</style>\n",
       "<table border=\"1\" class=\"dataframe\">\n",
       "  <thead>\n",
       "    <tr style=\"text-align: right;\">\n",
       "      <th></th>\n",
       "      <th>available_extra_rooms_in_hospital</th>\n",
       "      <th>department</th>\n",
       "      <th>ward_facility_code</th>\n",
       "      <th>doctor_name</th>\n",
       "      <th>staff_available</th>\n",
       "      <th>patientid</th>\n",
       "      <th>age</th>\n",
       "      <th>gender</th>\n",
       "      <th>type_of_admission</th>\n",
       "      <th>severity_of_illness</th>\n",
       "      <th>health_conditions</th>\n",
       "      <th>visitors_with_patient</th>\n",
       "      <th>insurance</th>\n",
       "      <th>admission_deposit</th>\n",
       "    </tr>\n",
       "  </thead>\n",
       "  <tbody>\n",
       "    <tr>\n",
       "      <th>50008</th>\n",
       "      <td>2</td>\n",
       "      <td>anesthesia</td>\n",
       "      <td>A</td>\n",
       "      <td>Dr John</td>\n",
       "      <td>4</td>\n",
       "      <td>30381</td>\n",
       "      <td>41-50</td>\n",
       "      <td>Female</td>\n",
       "      <td>Trauma</td>\n",
       "      <td>Extreme</td>\n",
       "      <td>Other</td>\n",
       "      <td>2</td>\n",
       "      <td>No</td>\n",
       "      <td>4452.44853</td>\n",
       "    </tr>\n",
       "  </tbody>\n",
       "</table>\n",
       "</div>"
      ],
      "text/plain": [
       "       available_extra_rooms_in_hospital  department ward_facility_code  \\\n",
       "50008                                  2  anesthesia                  A   \n",
       "\n",
       "      doctor_name  staff_available  patientid    age  gender  \\\n",
       "50008     Dr John                4      30381  41-50  Female   \n",
       "\n",
       "      type_of_admission severity_of_illness health_conditions  \\\n",
       "50008            Trauma             Extreme             Other   \n",
       "\n",
       "       visitors_with_patient insurance  admission_deposit  \n",
       "50008                      2        No         4452.44853  "
      ]
     },
     "execution_count": 7,
     "metadata": {},
     "output_type": "execute_result"
    }
   ],
   "source": [
    "Test_df.sample(1)"
   ]
  },
  {
   "cell_type": "code",
   "execution_count": 8,
   "metadata": {},
   "outputs": [
    {
     "name": "stdout",
     "output_type": "stream",
     "text": [
      "<class 'pandas.core.frame.DataFrame'>\n",
      "RangeIndex: 410000 entries, 0 to 409999\n",
      "Data columns (total 15 columns):\n",
      " #   Column                             Non-Null Count   Dtype  \n",
      "---  ------                             --------------   -----  \n",
      " 0   available_extra_rooms_in_hospital  410000 non-null  int64  \n",
      " 1   department                         410000 non-null  object \n",
      " 2   ward_facility_code                 410000 non-null  object \n",
      " 3   doctor_name                        410000 non-null  object \n",
      " 4   staff_available                    410000 non-null  int64  \n",
      " 5   patientid                          410000 non-null  int64  \n",
      " 6   age                                410000 non-null  object \n",
      " 7   gender                             410000 non-null  object \n",
      " 8   type_of_admission                  410000 non-null  object \n",
      " 9   severity_of_illness                410000 non-null  object \n",
      " 10  health_conditions                  410000 non-null  object \n",
      " 11  visitors_with_patient              410000 non-null  int64  \n",
      " 12  insurance                          410000 non-null  object \n",
      " 13  admission_deposit                  410000 non-null  float64\n",
      " 14  stay_(in_days)                     410000 non-null  int64  \n",
      "dtypes: float64(1), int64(5), object(9)\n",
      "memory usage: 46.9+ MB\n"
     ]
    }
   ],
   "source": [
    "# Evaluamos información del dataset, como Dtype y nulos\n",
    "Train_df.info()"
   ]
  },
  {
   "cell_type": "code",
   "execution_count": 9,
   "metadata": {},
   "outputs": [
    {
     "name": "stdout",
     "output_type": "stream",
     "text": [
      "<class 'pandas.core.frame.DataFrame'>\n",
      "RangeIndex: 90000 entries, 0 to 89999\n",
      "Data columns (total 14 columns):\n",
      " #   Column                             Non-Null Count  Dtype  \n",
      "---  ------                             --------------  -----  \n",
      " 0   available_extra_rooms_in_hospital  90000 non-null  int64  \n",
      " 1   department                         90000 non-null  object \n",
      " 2   ward_facility_code                 90000 non-null  object \n",
      " 3   doctor_name                        90000 non-null  object \n",
      " 4   staff_available                    90000 non-null  int64  \n",
      " 5   patientid                          90000 non-null  int64  \n",
      " 6   age                                90000 non-null  object \n",
      " 7   gender                             90000 non-null  object \n",
      " 8   type_of_admission                  90000 non-null  object \n",
      " 9   severity_of_illness                90000 non-null  object \n",
      " 10  health_conditions                  90000 non-null  object \n",
      " 11  visitors_with_patient              90000 non-null  int64  \n",
      " 12  insurance                          90000 non-null  object \n",
      " 13  admission_deposit                  90000 non-null  float64\n",
      "dtypes: float64(1), int64(4), object(9)\n",
      "memory usage: 9.6+ MB\n"
     ]
    }
   ],
   "source": [
    "Test_df.info()"
   ]
  },
  {
   "attachments": {},
   "cell_type": "markdown",
   "metadata": {},
   "source": [
    "### Data Preprocessing"
   ]
  },
  {
   "attachments": {},
   "cell_type": "markdown",
   "metadata": {},
   "source": [
    "#### Revisar features"
   ]
  },
  {
   "cell_type": "code",
   "execution_count": 10,
   "metadata": {},
   "outputs": [],
   "source": [
    "# Eliminamos los datos duplicados\n",
    "Train_df.drop_duplicates();\n",
    "Test_df.drop_duplicates();"
   ]
  },
  {
   "cell_type": "code",
   "execution_count": 11,
   "metadata": {},
   "outputs": [],
   "source": [
    "# Agregamos el feature que nos interesa predecir, si la estadía es prolongada\n",
    "Train_df['long_stay'] = (Train_df['stay_(in_days)'] > 8)\n",
    "Train_df['long_stay'].astype(str).replace({False: 0, True: 1})\n",
    "Train_df['long_stay'] = Train_df['long_stay'].astype(int)"
   ]
  },
  {
   "cell_type": "code",
   "execution_count": 12,
   "metadata": {},
   "outputs": [
    {
     "data": {
      "text/html": [
       "<div>\n",
       "<style scoped>\n",
       "    .dataframe tbody tr th:only-of-type {\n",
       "        vertical-align: middle;\n",
       "    }\n",
       "\n",
       "    .dataframe tbody tr th {\n",
       "        vertical-align: top;\n",
       "    }\n",
       "\n",
       "    .dataframe thead th {\n",
       "        text-align: right;\n",
       "    }\n",
       "</style>\n",
       "<table border=\"1\" class=\"dataframe\">\n",
       "  <thead>\n",
       "    <tr style=\"text-align: right;\">\n",
       "      <th></th>\n",
       "      <th>available_extra_rooms_in_hospital</th>\n",
       "      <th>department</th>\n",
       "      <th>ward_facility_code</th>\n",
       "      <th>doctor_name</th>\n",
       "      <th>staff_available</th>\n",
       "      <th>patientid</th>\n",
       "      <th>age</th>\n",
       "      <th>gender</th>\n",
       "      <th>type_of_admission</th>\n",
       "      <th>severity_of_illness</th>\n",
       "      <th>health_conditions</th>\n",
       "      <th>visitors_with_patient</th>\n",
       "      <th>insurance</th>\n",
       "      <th>admission_deposit</th>\n",
       "      <th>stay_(in_days)</th>\n",
       "      <th>long_stay</th>\n",
       "    </tr>\n",
       "  </thead>\n",
       "  <tbody>\n",
       "    <tr>\n",
       "      <th>31275</th>\n",
       "      <td>3</td>\n",
       "      <td>TB &amp; Chest disease</td>\n",
       "      <td>A</td>\n",
       "      <td>Dr Mark</td>\n",
       "      <td>8</td>\n",
       "      <td>114600</td>\n",
       "      <td>51-60</td>\n",
       "      <td>Male</td>\n",
       "      <td>Trauma</td>\n",
       "      <td>Moderate</td>\n",
       "      <td>None</td>\n",
       "      <td>2</td>\n",
       "      <td>Yes</td>\n",
       "      <td>4482.353451</td>\n",
       "      <td>32</td>\n",
       "      <td>1</td>\n",
       "    </tr>\n",
       "  </tbody>\n",
       "</table>\n",
       "</div>"
      ],
      "text/plain": [
       "       available_extra_rooms_in_hospital          department  \\\n",
       "31275                                  3  TB & Chest disease   \n",
       "\n",
       "      ward_facility_code doctor_name  staff_available  patientid    age  \\\n",
       "31275                  A     Dr Mark                8     114600  51-60   \n",
       "\n",
       "      gender type_of_admission severity_of_illness health_conditions  \\\n",
       "31275   Male            Trauma            Moderate              None   \n",
       "\n",
       "       visitors_with_patient insurance  admission_deposit  stay_(in_days)  \\\n",
       "31275                      2       Yes        4482.353451              32   \n",
       "\n",
       "       long_stay  \n",
       "31275          1  "
      ]
     },
     "execution_count": 12,
     "metadata": {},
     "output_type": "execute_result"
    }
   ],
   "source": [
    "Train_df.sample(1)"
   ]
  },
  {
   "cell_type": "code",
   "execution_count": 13,
   "metadata": {},
   "outputs": [
    {
     "data": {
      "text/plain": [
       "1    255416\n",
       "0    154584\n",
       "Name: long_stay, dtype: int64"
      ]
     },
     "execution_count": 13,
     "metadata": {},
     "output_type": "execute_result"
    }
   ],
   "source": [
    "# Revisamos la cantidad de valores del feature agregado\n",
    "Train_df.long_stay.value_counts()"
   ]
  },
  {
   "cell_type": "code",
   "execution_count": 14,
   "metadata": {},
   "outputs": [
    {
     "name": "stdout",
     "output_type": "stream",
     "text": [
      "available_extra_rooms_in_hospital\n",
      "        Train: 18 [ 0  1  2  3  4  5  6  7  8  9 10 11 12 13 14 20 21 24]\n",
      "        Test:  18 [ 0  1  2  3  4  5  6  7  8  9 10 11 12 13 14 20 21 24]\n",
      "Son iguales: True\n",
      "department\n",
      "        Train: 5 ['TB & Chest disease' 'anesthesia' 'gynecology' 'radiotherapy' 'surgery']\n",
      "        Test:  5 ['TB & Chest disease' 'anesthesia' 'gynecology' 'radiotherapy' 'surgery']\n",
      "Son iguales: True\n",
      "ward_facility_code\n",
      "        Train: 6 ['A' 'B' 'C' 'D' 'E' 'F']\n",
      "        Test:  6 ['A' 'B' 'C' 'D' 'E' 'F']\n",
      "Son iguales: True\n",
      "doctor_name\n",
      "        Train: 9 ['Dr Isaac' 'Dr John' 'Dr Mark' 'Dr Nathan' 'Dr Olivia' 'Dr Sam'\n",
      " 'Dr Sarah' 'Dr Simon' 'Dr Sophia']\n",
      "        Test:  9 ['Dr Isaac' 'Dr John' 'Dr Mark' 'Dr Nathan' 'Dr Olivia' 'Dr Sam'\n",
      " 'Dr Sarah' 'Dr Simon' 'Dr Sophia']\n",
      "Son iguales: True\n",
      "staff_available\n",
      "        Train: 11 [ 0  1  2  3  4  5  6  7  8  9 10]\n",
      "        Test:  11 [ 0  1  2  3  4  5  6  7  8  9 10]\n",
      "Son iguales: True\n",
      "patientid\n",
      "        Train: 122394 [ -3146  -3136  -3027 ... 134205 134393 134400]\n",
      "        Test:  62979 [ -3269  -2825  -2784 ... 133868 134028 134037]\n",
      "Son iguales: False\n",
      "age\n",
      "        Train: 10 ['0-10' '11-20' '21-30' '31-40' '41-50' '51-60' '61-70' '71-80' '81-90'\n",
      " '91-100']\n",
      "        Test:  10 ['0-10' '11-20' '21-30' '31-40' '41-50' '51-60' '61-70' '71-80' '81-90'\n",
      " '91-100']\n",
      "Son iguales: True\n",
      "gender\n",
      "        Train: 3 ['Female' 'Male' 'Other']\n",
      "        Test:  3 ['Female' 'Male' 'Other']\n",
      "Son iguales: True\n",
      "type_of_admission\n",
      "        Train: 3 ['Emergency' 'Trauma' 'Urgent']\n",
      "        Test:  3 ['Emergency' 'Trauma' 'Urgent']\n",
      "Son iguales: True\n",
      "severity_of_illness\n",
      "        Train: 3 ['Extreme' 'Minor' 'Moderate']\n",
      "        Test:  3 ['Extreme' 'Minor' 'Moderate']\n",
      "Son iguales: True\n",
      "health_conditions\n",
      "        Train: 6 ['Asthama' 'Diabetes' 'Heart disease' 'High Blood Pressure' 'None' 'Other']\n",
      "        Test:  6 ['Asthama' 'Diabetes' 'Heart disease' 'High Blood Pressure' 'None' 'Other']\n",
      "Son iguales: True\n",
      "visitors_with_patient\n",
      "        Train: 28 [ 0  1  2  3  4  5  6  7  8  9 10 11 12 13 14 15 16 17 18 19 20 21 22 23\n",
      " 24 25 30 32]\n",
      "        Test:  28 [ 0  1  2  3  4  5  6  7  8  9 10 11 12 13 14 15 16 17 18 19 20 21 22 23\n",
      " 24 25 30 32]\n",
      "Son iguales: True\n",
      "insurance\n",
      "        Train: 2 ['No' 'Yes']\n",
      "        Test:  2 ['No' 'Yes']\n",
      "Son iguales: True\n",
      "admission_deposit\n",
      "        Train: 409682 [ 1654.005148  1690.915275  1695.298618 ...  9897.655509  9899.192317\n",
      " 10104.72639 ]\n",
      "        Test:  89984 [1710.212495 1773.465559 1783.124428 ... 9616.622654 9759.69585\n",
      " 9872.650668]\n",
      "Son iguales: True\n"
     ]
    }
   ],
   "source": [
    "# Revisamos que las features en ambos datasets sean iguales\n",
    "for elem in list(Test_df.columns):\n",
    "    print(f'{elem}')\n",
    "    unicos_train, unicos_test = Train_df[elem].sort_values().unique(), Test_df[elem].sort_values().unique()\n",
    "    print(f'        Train: {len(unicos_train)} {unicos_train}')\n",
    "    print(f'        Test:  {len(unicos_test)} {unicos_test}')\n",
    "    print(f'Son iguales: {unicos_test.all() == unicos_train.all()}')"
   ]
  },
  {
   "attachments": {},
   "cell_type": "markdown",
   "metadata": {},
   "source": [
    "#### Analizar la correlación con el feature de interés"
   ]
  },
  {
   "cell_type": "code",
   "execution_count": 15,
   "metadata": {},
   "outputs": [],
   "source": [
    "# Modificamos una variable categórica a numérica\n",
    "Train_df.insurance.replace({'No': 0, 'Yes': 1}, inplace = True, regex = True)\n",
    "Test_df.insurance.replace({'No': 0, 'Yes': 1}, inplace = True, regex = True)"
   ]
  },
  {
   "cell_type": "code",
   "execution_count": 16,
   "metadata": {},
   "outputs": [],
   "source": [
    "# Creamos columnas dummy para las variables categóricas\n",
    "Train_df = pd.get_dummies(Train_df, columns = ['department', 'ward_facility_code', 'doctor_name', 'age', 'gender', 'type_of_admission', 'severity_of_illness', 'health_conditions'])\n",
    "Test_df = pd.get_dummies(Test_df, columns = ['department', 'ward_facility_code', 'doctor_name', 'age', 'gender', 'type_of_admission', 'severity_of_illness', 'health_conditions'])"
   ]
  },
  {
   "cell_type": "code",
   "execution_count": 17,
   "metadata": {},
   "outputs": [
    {
     "name": "stdout",
     "output_type": "stream",
     "text": [
      "(410000, 53)\n",
      "(90000, 51)\n"
     ]
    }
   ],
   "source": [
    "# Evaluamos el resultado final, siendo que el DF de los test debería tener 2 columnas menos: stay_(in_days) y long_stay\n",
    "print(Train_df.shape)\n",
    "print(Test_df.shape)"
   ]
  },
  {
   "cell_type": "code",
   "execution_count": 18,
   "metadata": {},
   "outputs": [
    {
     "data": {
      "text/html": [
       "<div>\n",
       "<style scoped>\n",
       "    .dataframe tbody tr th:only-of-type {\n",
       "        vertical-align: middle;\n",
       "    }\n",
       "\n",
       "    .dataframe tbody tr th {\n",
       "        vertical-align: top;\n",
       "    }\n",
       "\n",
       "    .dataframe thead th {\n",
       "        text-align: right;\n",
       "    }\n",
       "</style>\n",
       "<table border=\"1\" class=\"dataframe\">\n",
       "  <thead>\n",
       "    <tr style=\"text-align: right;\">\n",
       "      <th></th>\n",
       "      <th>available_extra_rooms_in_hospital</th>\n",
       "      <th>staff_available</th>\n",
       "      <th>patientid</th>\n",
       "      <th>visitors_with_patient</th>\n",
       "      <th>insurance</th>\n",
       "      <th>admission_deposit</th>\n",
       "      <th>stay_(in_days)</th>\n",
       "      <th>long_stay</th>\n",
       "      <th>department_TB &amp; Chest disease</th>\n",
       "      <th>department_anesthesia</th>\n",
       "      <th>...</th>\n",
       "      <th>type_of_admission_Urgent</th>\n",
       "      <th>severity_of_illness_Extreme</th>\n",
       "      <th>severity_of_illness_Minor</th>\n",
       "      <th>severity_of_illness_Moderate</th>\n",
       "      <th>health_conditions_Asthama</th>\n",
       "      <th>health_conditions_Diabetes</th>\n",
       "      <th>health_conditions_Heart disease</th>\n",
       "      <th>health_conditions_High Blood Pressure</th>\n",
       "      <th>health_conditions_None</th>\n",
       "      <th>health_conditions_Other</th>\n",
       "    </tr>\n",
       "  </thead>\n",
       "  <tbody>\n",
       "    <tr>\n",
       "      <th>25803</th>\n",
       "      <td>4</td>\n",
       "      <td>10</td>\n",
       "      <td>78396</td>\n",
       "      <td>4</td>\n",
       "      <td>1</td>\n",
       "      <td>3592.583458</td>\n",
       "      <td>9</td>\n",
       "      <td>1</td>\n",
       "      <td>0</td>\n",
       "      <td>0</td>\n",
       "      <td>...</td>\n",
       "      <td>0</td>\n",
       "      <td>0</td>\n",
       "      <td>0</td>\n",
       "      <td>1</td>\n",
       "      <td>0</td>\n",
       "      <td>0</td>\n",
       "      <td>1</td>\n",
       "      <td>0</td>\n",
       "      <td>0</td>\n",
       "      <td>0</td>\n",
       "    </tr>\n",
       "  </tbody>\n",
       "</table>\n",
       "<p>1 rows × 53 columns</p>\n",
       "</div>"
      ],
      "text/plain": [
       "       available_extra_rooms_in_hospital  staff_available  patientid  \\\n",
       "25803                                  4               10      78396   \n",
       "\n",
       "       visitors_with_patient  insurance  admission_deposit  stay_(in_days)  \\\n",
       "25803                      4          1        3592.583458               9   \n",
       "\n",
       "       long_stay  department_TB & Chest disease  department_anesthesia  ...  \\\n",
       "25803          1                              0                      0  ...   \n",
       "\n",
       "       type_of_admission_Urgent  severity_of_illness_Extreme  \\\n",
       "25803                         0                            0   \n",
       "\n",
       "       severity_of_illness_Minor  severity_of_illness_Moderate  \\\n",
       "25803                          0                             1   \n",
       "\n",
       "       health_conditions_Asthama  health_conditions_Diabetes  \\\n",
       "25803                          0                           0   \n",
       "\n",
       "       health_conditions_Heart disease  health_conditions_High Blood Pressure  \\\n",
       "25803                                1                                      0   \n",
       "\n",
       "       health_conditions_None  health_conditions_Other  \n",
       "25803                       0                        0  \n",
       "\n",
       "[1 rows x 53 columns]"
      ]
     },
     "execution_count": 18,
     "metadata": {},
     "output_type": "execute_result"
    }
   ],
   "source": [
    "# Revisamos el resultado en una celda cualquiera\n",
    "Train_df.sample(1)"
   ]
  },
  {
   "cell_type": "code",
   "execution_count": 19,
   "metadata": {},
   "outputs": [
    {
     "data": {
      "text/plain": [
       "stay_(in_days)                           1.000000\n",
       "department_gynecology                    0.701218\n",
       "gender_Female                            0.629616\n",
       "department_anesthesia                    0.596150\n",
       "gender_Male                              0.560633\n",
       "doctor_name_Dr Mark                      0.535644\n",
       "long_stay                                0.493378\n",
       "ward_facility_code_E                     0.449489\n",
       "age_61-70                                0.441602\n",
       "ward_facility_code_A                     0.410231\n",
       "age_51-60                                0.405965\n",
       "age_71-80                                0.348840\n",
       "doctor_name_Dr John                      0.302958\n",
       "ward_facility_code_F                     0.269189\n",
       "ward_facility_code_D                     0.263576\n",
       "age_31-40                                0.257243\n",
       "doctor_name_Dr Olivia                    0.244178\n",
       "department_TB & Chest disease            0.241790\n",
       "ward_facility_code_B                     0.241052\n",
       "department_surgery                       0.234838\n",
       "doctor_name_Dr Sarah                     0.229313\n",
       "age_81-90                                0.225486\n",
       "gender_Other                             0.219943\n",
       "department_radiotherapy                  0.218441\n",
       "doctor_name_Dr Nathan                    0.200901\n",
       "doctor_name_Dr Isaac                     0.199934\n",
       "doctor_name_Dr Sophia                    0.186450\n",
       "age_41-50                                0.184354\n",
       "doctor_name_Dr Sam                       0.180193\n",
       "ward_facility_code_C                     0.174222\n",
       "age_0-10                                 0.154203\n",
       "age_21-30                                0.153172\n",
       "age_11-20                                0.146544\n",
       "doctor_name_Dr Simon                     0.122303\n",
       "age_91-100                               0.103342\n",
       "severity_of_illness_Minor                0.069534\n",
       "severity_of_illness_Moderate             0.049619\n",
       "type_of_admission_Emergency              0.048191\n",
       "type_of_admission_Trauma                 0.044596\n",
       "admission_deposit                        0.043899\n",
       "visitors_with_patient                    0.027284\n",
       "available_extra_rooms_in_hospital        0.019383\n",
       "severity_of_illness_Extreme              0.015850\n",
       "staff_available                          0.006673\n",
       "patientid                                0.005567\n",
       "health_conditions_Other                  0.002701\n",
       "health_conditions_Heart disease          0.001969\n",
       "health_conditions_None                   0.001123\n",
       "health_conditions_Diabetes               0.001056\n",
       "health_conditions_High Blood Pressure    0.000950\n",
       "insurance                                0.000947\n",
       "type_of_admission_Urgent                 0.000639\n",
       "health_conditions_Asthama                0.000215\n",
       "Name: stay_(in_days), dtype: float64"
      ]
     },
     "execution_count": 19,
     "metadata": {},
     "output_type": "execute_result"
    }
   ],
   "source": [
    "# Evaluamos la correlación para la feature que nos interesa\n",
    "Train_df.corr()['stay_(in_days)'].abs().sort_values(ascending=False)"
   ]
  },
  {
   "cell_type": "code",
   "execution_count": 20,
   "metadata": {},
   "outputs": [
    {
     "data": {
      "text/plain": [
       "long_stay                                1.000000\n",
       "stay_(in_days)                           0.493378\n",
       "doctor_name_Dr Mark                      0.246904\n",
       "department_anesthesia                    0.242282\n",
       "department_gynecology                    0.230424\n",
       "gender_Female                            0.206991\n",
       "gender_Male                              0.184325\n",
       "age_61-70                                0.184272\n",
       "age_51-60                                0.165409\n",
       "department_TB & Chest disease            0.154842\n",
       "age_71-80                                0.153605\n",
       "ward_facility_code_A                     0.150734\n",
       "age_31-40                                0.140341\n",
       "ward_facility_code_E                     0.138988\n",
       "ward_facility_code_F                     0.108095\n",
       "age_81-90                                0.100105\n",
       "doctor_name_Dr John                      0.099091\n",
       "age_41-50                                0.092119\n",
       "ward_facility_code_D                     0.081017\n",
       "department_surgery                       0.078740\n",
       "doctor_name_Dr Nathan                    0.077513\n",
       "doctor_name_Dr Olivia                    0.077157\n",
       "gender_Other                             0.072283\n",
       "doctor_name_Dr Isaac                     0.066519\n",
       "doctor_name_Dr Sarah                     0.065817\n",
       "ward_facility_code_B                     0.064377\n",
       "age_0-10                                 0.063964\n",
       "doctor_name_Dr Sophia                    0.063904\n",
       "available_extra_rooms_in_hospital        0.053894\n",
       "ward_facility_code_C                     0.050095\n",
       "doctor_name_Dr Simon                     0.041826\n",
       "age_91-100                               0.041025\n",
       "age_21-30                                0.039144\n",
       "severity_of_illness_Minor                0.037693\n",
       "age_11-20                                0.036345\n",
       "severity_of_illness_Moderate             0.029866\n",
       "admission_deposit                        0.016650\n",
       "type_of_admission_Trauma                 0.015249\n",
       "type_of_admission_Emergency              0.012470\n",
       "visitors_with_patient                    0.009529\n",
       "health_conditions_None                   0.007809\n",
       "health_conditions_High Blood Pressure    0.006233\n",
       "type_of_admission_Urgent                 0.005982\n",
       "department_radiotherapy                  0.005953\n",
       "health_conditions_Asthama                0.005211\n",
       "doctor_name_Dr Sam                       0.005096\n",
       "severity_of_illness_Extreme              0.004707\n",
       "health_conditions_Diabetes               0.003826\n",
       "staff_available                          0.002883\n",
       "health_conditions_Other                  0.002432\n",
       "insurance                                0.001063\n",
       "patientid                                0.000532\n",
       "health_conditions_Heart disease          0.000423\n",
       "Name: long_stay, dtype: float64"
      ]
     },
     "execution_count": 20,
     "metadata": {},
     "output_type": "execute_result"
    }
   ],
   "source": [
    "# Evaluamos la correlación para la versión categórica de la feature que nos interesa\n",
    "Train_df.corr()['long_stay'].abs().sort_values(ascending=False)"
   ]
  },
  {
   "attachments": {},
   "cell_type": "markdown",
   "metadata": {},
   "source": [
    "#### Utilizar otro método para revisar la correlación"
   ]
  },
  {
   "cell_type": "code",
   "execution_count": 32,
   "metadata": {},
   "outputs": [],
   "source": [
    "LE = pp.LabelEncoder()\n",
    "Train_2 = Train_original\n",
    "Test_2 = Test_original"
   ]
  },
  {
   "cell_type": "code",
   "execution_count": 33,
   "metadata": {},
   "outputs": [],
   "source": [
    "Train_2.department = LE.fit_transform(Train_2.department)\n",
    "Train_2.ward_facility_code = LE.fit_transform(Train_2.ward_facility_code)\n",
    "Train_2.doctor_name = LE.fit_transform(Train_2.doctor_name)\n",
    "Train_2.age = LE.fit_transform(Train_2.age)\n",
    "Train_2.gender = LE.fit_transform(Train_2.gender)\n",
    "Train_2.type_of_admission = LE.fit_transform(Train_2.type_of_admission)\n",
    "Train_2.severity_of_illness = LE.fit_transform(Train_2.severity_of_illness)\n",
    "Train_2.health_conditions = LE.fit_transform(Train_2.health_conditions)\n",
    "Train_2.insurance = LE.fit_transform(Train_2.insurance)"
   ]
  },
  {
   "cell_type": "code",
   "execution_count": 34,
   "metadata": {},
   "outputs": [],
   "source": [
    "Test_2.department = LE.fit_transform(Test_2.department)\n",
    "Test_2.ward_facility_code = LE.fit_transform(Test_2.ward_facility_code)\n",
    "Test_2.doctor_name = LE.fit_transform(Test_2.doctor_name)\n",
    "Test_2.age = LE.fit_transform(Test_2.age)\n",
    "Test_2.gender = LE.fit_transform(Test_2.gender)\n",
    "Test_2.type_of_admission = LE.fit_transform(Test_2.type_of_admission)\n",
    "Test_2.severity_of_illness = LE.fit_transform(Test_2.severity_of_illness)\n",
    "Test_2.health_conditions = LE.fit_transform(Test_2.health_conditions)\n",
    "Test_2.insurance = LE.fit_transform(Test_2.insurance)"
   ]
  },
  {
   "cell_type": "code",
   "execution_count": 23,
   "metadata": {},
   "outputs": [
    {
     "data": {
      "text/plain": [
       "stay_(in_days)                       1.000000\n",
       "gender                               0.589757\n",
       "age                                  0.585201\n",
       "long_stay                            0.493378\n",
       "doctor_name                          0.444867\n",
       "department                           0.204050\n",
       "ward_facility_code                   0.145227\n",
       "admission_deposit                    0.043899\n",
       "type_of_admission                    0.035811\n",
       "visitors_with_patient                0.027284\n",
       "severity_of_illness                  0.024316\n",
       "available_extra_rooms_in_hospital    0.019383\n",
       "staff_available                      0.006673\n",
       "patientid                            0.005567\n",
       "health_conditions                    0.001772\n",
       "insurance                            0.000947\n",
       "Name: stay_(in_days), dtype: float64"
      ]
     },
     "execution_count": 23,
     "metadata": {},
     "output_type": "execute_result"
    }
   ],
   "source": [
    "Train_2.corr()['stay_(in_days)'].abs().sort_values(ascending=False)"
   ]
  },
  {
   "cell_type": "code",
   "execution_count": 27,
   "metadata": {},
   "outputs": [
    {
     "data": {
      "text/plain": [
       "long_stay                            1.000000\n",
       "stay_(in_days)                       0.493378\n",
       "age                                  0.229657\n",
       "gender                               0.193878\n",
       "department                           0.173021\n",
       "doctor_name                          0.172526\n",
       "ward_facility_code                   0.074337\n",
       "available_extra_rooms_in_hospital    0.053894\n",
       "severity_of_illness                  0.017030\n",
       "admission_deposit                    0.016650\n",
       "visitors_with_patient                0.009529\n",
       "type_of_admission                    0.006233\n",
       "staff_available                      0.002883\n",
       "health_conditions                    0.002568\n",
       "insurance                            0.001063\n",
       "patientid                            0.000532\n",
       "Name: long_stay, dtype: float64"
      ]
     },
     "execution_count": 27,
     "metadata": {},
     "output_type": "execute_result"
    }
   ],
   "source": [
    "Train_2.corr()['long_stay'].abs().sort_values(ascending=False)"
   ]
  },
  {
   "cell_type": "code",
   "execution_count": 58,
   "metadata": {},
   "outputs": [
    {
     "data": {
      "image/png": "[encoded data removed]",
      "text/plain": [
       "<Figure size 432x288 with 2 Axes>"
      ]
     },
     "metadata": {
      "needs_background": "light"
     },
     "output_type": "display_data"
    }
   ],
   "source": [
    "corr = Train_2.corr()\n",
    "sns.heatmap(corr, xticklabels=corr.columns, yticklabels=corr.columns, annot=True);"
   ]
  },
  {
   "attachments": {},
   "cell_type": "markdown",
   "metadata": {},
   "source": [
    "#### Eliminar features sin relevancia"
   ]
  },
  {
   "cell_type": "code",
   "execution_count": 24,
   "metadata": {},
   "outputs": [],
   "source": [
    "# Tomamos la lista de columnas a eliminar\n",
    "col_to_drop = list(Train_df.corr()['stay_(in_days)'].abs().sort_values(ascending=False).index[12:])"
   ]
  },
  {
   "cell_type": "code",
   "execution_count": 25,
   "metadata": {},
   "outputs": [],
   "source": [
    "# Realizamos la eliminación\n",
    "Train_df.drop(columns = col_to_drop, inplace = True)\n",
    "Test_df.drop(columns = col_to_drop, inplace = True);"
   ]
  },
  {
   "cell_type": "code",
   "execution_count": 28,
   "metadata": {},
   "outputs": [
    {
     "data": {
      "text/html": [
       "<div>\n",
       "<style scoped>\n",
       "    .dataframe tbody tr th:only-of-type {\n",
       "        vertical-align: middle;\n",
       "    }\n",
       "\n",
       "    .dataframe tbody tr th {\n",
       "        vertical-align: top;\n",
       "    }\n",
       "\n",
       "    .dataframe thead th {\n",
       "        text-align: right;\n",
       "    }\n",
       "</style>\n",
       "<table border=\"1\" class=\"dataframe\">\n",
       "  <thead>\n",
       "    <tr style=\"text-align: right;\">\n",
       "      <th></th>\n",
       "      <th>stay_(in_days)</th>\n",
       "      <th>long_stay</th>\n",
       "      <th>department_anesthesia</th>\n",
       "      <th>department_gynecology</th>\n",
       "      <th>ward_facility_code_A</th>\n",
       "      <th>ward_facility_code_E</th>\n",
       "      <th>doctor_name_Dr Mark</th>\n",
       "      <th>age_51-60</th>\n",
       "      <th>age_61-70</th>\n",
       "      <th>age_71-80</th>\n",
       "      <th>gender_Female</th>\n",
       "      <th>gender_Male</th>\n",
       "    </tr>\n",
       "  </thead>\n",
       "  <tbody>\n",
       "    <tr>\n",
       "      <th>6557</th>\n",
       "      <td>8</td>\n",
       "      <td>0</td>\n",
       "      <td>0</td>\n",
       "      <td>1</td>\n",
       "      <td>0</td>\n",
       "      <td>0</td>\n",
       "      <td>0</td>\n",
       "      <td>0</td>\n",
       "      <td>0</td>\n",
       "      <td>0</td>\n",
       "      <td>1</td>\n",
       "      <td>0</td>\n",
       "    </tr>\n",
       "  </tbody>\n",
       "</table>\n",
       "</div>"
      ],
      "text/plain": [
       "      stay_(in_days)  long_stay  department_anesthesia  department_gynecology  \\\n",
       "6557               8          0                      0                      1   \n",
       "\n",
       "      ward_facility_code_A  ward_facility_code_E  doctor_name_Dr Mark  \\\n",
       "6557                     0                     0                    0   \n",
       "\n",
       "      age_51-60  age_61-70  age_71-80  gender_Female  gender_Male  \n",
       "6557          0          0          0              1            0  "
      ]
     },
     "execution_count": 28,
     "metadata": {},
     "output_type": "execute_result"
    }
   ],
   "source": [
    "Train_df.sample(1)"
   ]
  },
  {
   "cell_type": "code",
   "execution_count": 39,
   "metadata": {},
   "outputs": [],
   "source": [
    "# Aplicamos lo mismo para el dataset que no tiene dummies\n",
    "col_to_drop = list(Train_2.corr()['long_stay'].abs().sort_values(ascending=False).index[5:])"
   ]
  },
  {
   "cell_type": "code",
   "execution_count": 40,
   "metadata": {},
   "outputs": [],
   "source": [
    "# Realizamos la eliminación\n",
    "Train_2.drop(columns = col_to_drop, inplace = True)\n",
    "Test_2.drop(columns = col_to_drop, inplace = True);"
   ]
  },
  {
   "cell_type": "code",
   "execution_count": 57,
   "metadata": {},
   "outputs": [
    {
     "data": {
      "text/html": [
       "<div>\n",
       "<style scoped>\n",
       "    .dataframe tbody tr th:only-of-type {\n",
       "        vertical-align: middle;\n",
       "    }\n",
       "\n",
       "    .dataframe tbody tr th {\n",
       "        vertical-align: top;\n",
       "    }\n",
       "\n",
       "    .dataframe thead th {\n",
       "        text-align: right;\n",
       "    }\n",
       "</style>\n",
       "<table border=\"1\" class=\"dataframe\">\n",
       "  <thead>\n",
       "    <tr style=\"text-align: right;\">\n",
       "      <th></th>\n",
       "      <th>department</th>\n",
       "      <th>age</th>\n",
       "      <th>gender</th>\n",
       "      <th>stay_(in_days)</th>\n",
       "      <th>long_stay</th>\n",
       "    </tr>\n",
       "  </thead>\n",
       "  <tbody>\n",
       "    <tr>\n",
       "      <th>278397</th>\n",
       "      <td>2</td>\n",
       "      <td>1</td>\n",
       "      <td>0</td>\n",
       "      <td>9</td>\n",
       "      <td>1</td>\n",
       "    </tr>\n",
       "  </tbody>\n",
       "</table>\n",
       "</div>"
      ],
      "text/plain": [
       "        department  age  gender  stay_(in_days)  long_stay\n",
       "278397           2    1       0               9          1"
      ]
     },
     "execution_count": 57,
     "metadata": {},
     "output_type": "execute_result"
    }
   ],
   "source": [
    "Train_2.sample(1)"
   ]
  },
  {
   "attachments": {},
   "cell_type": "markdown",
   "metadata": {},
   "source": [
    "## Modelado"
   ]
  },
  {
   "attachments": {},
   "cell_type": "markdown",
   "metadata": {},
   "source": [
    "### Árbol de desición - age_department"
   ]
  },
  {
   "cell_type": "code",
   "execution_count": 137,
   "metadata": {},
   "outputs": [],
   "source": [
    "# Consideramos un árbol de desición para realizar la predicción\n",
    "X = Train_2.drop(columns=['stay_(in_days)', 'long_stay', 'gender'])\n",
    "y = Train_2.long_stay"
   ]
  },
  {
   "cell_type": "code",
   "execution_count": 99,
   "metadata": {},
   "outputs": [],
   "source": [
    "# Realizamos una iteración para evaluar la profundidad óptima del árbol\n",
    "tree_train_scores_mean = []\n",
    "tree_train_scores_std = []\n",
    "\n",
    "tree_test_scores_mean = []\n",
    "tree_test_scores_std = []\n",
    "# Consideramos 20 como profundidad máxima\n",
    "profundidades = np.arange(1,20,1)\n",
    "\n",
    "for profundidad in profundidades:\n",
    "    clf = DecisionTreeClassifier(max_depth=profundidad,criterion=\"entropy\")\n",
    "    tree_scores = cross_validate(clf, X, y, cv=5, return_train_score=True, n_jobs = -1)\n",
    "    \n",
    "    tree_train_scores_mean.append(tree_scores['train_score'].mean())\n",
    "    tree_train_scores_std.append(tree_scores['train_score'].std())\n",
    "    \n",
    "    tree_test_scores_mean.append(tree_scores['test_score'].mean())\n",
    "    tree_test_scores_std.append(tree_scores['test_score'].std())\n",
    "\n",
    "tree_train_scores_mean = np.array(tree_train_scores_mean)\n",
    "tree_train_scores_std = np.array(tree_train_scores_std)\n",
    "tree_test_scores_mean = np.array(tree_test_scores_mean)\n",
    "tree_test_scores_std = np.array(tree_test_scores_std)"
   ]
  },
  {
   "cell_type": "code",
   "execution_count": 100,
   "metadata": {},
   "outputs": [
    {
     "data": {
      "image/png": "[encoded data removed]",
      "text/plain": [
       "<Figure size 432x288 with 1 Axes>"
      ]
     },
     "metadata": {
      "needs_background": "light"
     },
     "output_type": "display_data"
    }
   ],
   "source": [
    "# Ploteamos los resultados\n",
    "plt.fill_between(profundidades, tree_train_scores_mean - tree_train_scores_std,\n",
    "                 tree_train_scores_mean + tree_train_scores_std, alpha=0.1,\n",
    "                 color=\"r\")\n",
    "plt.fill_between(profundidades, tree_test_scores_mean - tree_test_scores_std,\n",
    "                 tree_test_scores_mean + tree_test_scores_std, alpha=0.1, color=\"g\")\n",
    "\n",
    "plt.plot(profundidades, tree_train_scores_mean, 'o-', color=\"r\",\n",
    "         label=\"Training score\")\n",
    "plt.plot(profundidades, tree_test_scores_mean, 'o-', color=\"g\",\n",
    "         label=\"Test score\")\n",
    "\n",
    "plt.legend()\n",
    "plt.grid()\n",
    "plt.ylabel('Accuracy')\n",
    "plt.xlabel('Profundidad Arbol de Decision')\n",
    "plt.show()"
   ]
  },
  {
   "attachments": {},
   "cell_type": "markdown",
   "metadata": {},
   "source": [
    "##### De acuerdo a lo ensayado, tomar la profundidad óptima y medir"
   ]
  },
  {
   "cell_type": "code",
   "execution_count": 138,
   "metadata": {},
   "outputs": [],
   "source": [
    "clf = DecisionTreeClassifier(max_depth=5,criterion=\"entropy\")\n",
    "clf.fit(X.values, y.values)\n",
    "y_pred = clf.predict(X.values)"
   ]
  },
  {
   "cell_type": "code",
   "execution_count": 139,
   "metadata": {},
   "outputs": [
    {
     "name": "stdout",
     "output_type": "stream",
     "text": [
      "              precision    recall  f1-score   support\n",
      "\n",
      "           0       1.00      0.17      0.29    154584\n",
      "           1       0.67      1.00      0.80    255416\n",
      "\n",
      "    accuracy                           0.69    410000\n",
      "   macro avg       0.83      0.59      0.55    410000\n",
      "weighted avg       0.79      0.69      0.61    410000\n",
      "\n"
     ]
    }
   ],
   "source": [
    "print(classification_report(y, y_pred))"
   ]
  },
  {
   "attachments": {},
   "cell_type": "markdown",
   "metadata": {},
   "source": [
    "### Árbol de desición - age_gender"
   ]
  },
  {
   "cell_type": "code",
   "execution_count": 123,
   "metadata": {},
   "outputs": [],
   "source": [
    "# Consideramos un árbol de desición para realizar la predicción\n",
    "X = Train_2.drop(columns=['stay_(in_days)', 'long_stay', 'department'])\n",
    "y = Train_2.long_stay"
   ]
  },
  {
   "cell_type": "code",
   "execution_count": 94,
   "metadata": {},
   "outputs": [],
   "source": [
    "# Realizamos una iteración para evaluar la profundidad óptima del árbol\n",
    "tree_train_scores_mean = []\n",
    "tree_train_scores_std = []\n",
    "\n",
    "tree_test_scores_mean = []\n",
    "tree_test_scores_std = []\n",
    "# Consideramos 20 como profundidad máxima\n",
    "profundidades = np.arange(1,20,1)\n",
    "\n",
    "for profundidad in profundidades:\n",
    "    clf = DecisionTreeClassifier(max_depth=profundidad,criterion=\"entropy\")\n",
    "    tree_scores = cross_validate(clf, X, y, cv=5, return_train_score=True, n_jobs = -1)\n",
    "    \n",
    "    tree_train_scores_mean.append(tree_scores['train_score'].mean())\n",
    "    tree_train_scores_std.append(tree_scores['train_score'].std())\n",
    "    \n",
    "    tree_test_scores_mean.append(tree_scores['test_score'].mean())\n",
    "    tree_test_scores_std.append(tree_scores['test_score'].std())\n",
    "\n",
    "tree_train_scores_mean = np.array(tree_train_scores_mean)\n",
    "tree_train_scores_std = np.array(tree_train_scores_std)\n",
    "tree_test_scores_mean = np.array(tree_test_scores_mean)\n",
    "tree_test_scores_std = np.array(tree_test_scores_std)"
   ]
  },
  {
   "cell_type": "code",
   "execution_count": 95,
   "metadata": {},
   "outputs": [
    {
     "data": {
      "image/png": "[encoded data removed]",
      "text/plain": [
       "<Figure size 432x288 with 1 Axes>"
      ]
     },
     "metadata": {
      "needs_background": "light"
     },
     "output_type": "display_data"
    }
   ],
   "source": [
    "# Ploteamos los resultados\n",
    "plt.fill_between(profundidades, tree_train_scores_mean - tree_train_scores_std,\n",
    "                 tree_train_scores_mean + tree_train_scores_std, alpha=0.1,\n",
    "                 color=\"r\")\n",
    "plt.fill_between(profundidades, tree_test_scores_mean - tree_test_scores_std,\n",
    "                 tree_test_scores_mean + tree_test_scores_std, alpha=0.1, color=\"g\")\n",
    "\n",
    "plt.plot(profundidades, tree_train_scores_mean, 'o-', color=\"r\",\n",
    "         label=\"Training score\")\n",
    "plt.plot(profundidades, tree_test_scores_mean, 'o-', color=\"g\",\n",
    "         label=\"Test score\")\n",
    "\n",
    "plt.legend()\n",
    "plt.grid()\n",
    "plt.ylabel('Accuracy')\n",
    "plt.xlabel('Profundidad Arbol de Decision')\n",
    "plt.show()"
   ]
  },
  {
   "attachments": {},
   "cell_type": "markdown",
   "metadata": {},
   "source": [
    "##### De acuerdo a lo ensayado, tomar la profundidad óptima y medir"
   ]
  },
  {
   "cell_type": "code",
   "execution_count": 135,
   "metadata": {},
   "outputs": [],
   "source": [
    "clf = DecisionTreeClassifier(max_depth=4,criterion=\"entropy\")\n",
    "clf.fit(X.values, y.values)\n",
    "y_pred = clf.predict(X.values)"
   ]
  },
  {
   "cell_type": "code",
   "execution_count": 136,
   "metadata": {},
   "outputs": [
    {
     "name": "stdout",
     "output_type": "stream",
     "text": [
      "              precision    recall  f1-score   support\n",
      "\n",
      "           0       0.96      0.17      0.29    154584\n",
      "           1       0.66      1.00      0.80    255416\n",
      "\n",
      "    accuracy                           0.68    410000\n",
      "   macro avg       0.81      0.58      0.54    410000\n",
      "weighted avg       0.77      0.68      0.61    410000\n",
      "\n"
     ]
    }
   ],
   "source": [
    "print(classification_report(y, y_pred))"
   ]
  },
  {
   "attachments": {},
   "cell_type": "markdown",
   "metadata": {},
   "source": [
    "### Árbol de desición - gender_department"
   ]
  },
  {
   "cell_type": "code",
   "execution_count": 126,
   "metadata": {},
   "outputs": [],
   "source": [
    "# Consideramos un árbol de desición para realizar la predicción\n",
    "X = Train_2.drop(columns=['stay_(in_days)', 'long_stay', 'age'])\n",
    "y = Train_2.long_stay"
   ]
  },
  {
   "cell_type": "code",
   "execution_count": 104,
   "metadata": {},
   "outputs": [],
   "source": [
    "# Realizamos una iteración para evaluar la profundidad óptima del árbol\n",
    "tree_train_scores_mean = []\n",
    "tree_train_scores_std = []\n",
    "\n",
    "tree_test_scores_mean = []\n",
    "tree_test_scores_std = []\n",
    "# Consideramos 20 como profundidad máxima\n",
    "profundidades = np.arange(1,20,1)\n",
    "\n",
    "for profundidad in profundidades:\n",
    "    clf = DecisionTreeClassifier(max_depth=profundidad,criterion=\"entropy\")\n",
    "    tree_scores = cross_validate(clf, X, y, cv=5, return_train_score=True, n_jobs = -1)\n",
    "    \n",
    "    tree_train_scores_mean.append(tree_scores['train_score'].mean())\n",
    "    tree_train_scores_std.append(tree_scores['train_score'].std())\n",
    "    \n",
    "    tree_test_scores_mean.append(tree_scores['test_score'].mean())\n",
    "    tree_test_scores_std.append(tree_scores['test_score'].std())\n",
    "\n",
    "tree_train_scores_mean = np.array(tree_train_scores_mean)\n",
    "tree_train_scores_std = np.array(tree_train_scores_std)\n",
    "tree_test_scores_mean = np.array(tree_test_scores_mean)\n",
    "tree_test_scores_std = np.array(tree_test_scores_std)"
   ]
  },
  {
   "cell_type": "code",
   "execution_count": 105,
   "metadata": {},
   "outputs": [
    {
     "data": {
      "image/png": "[encoded data removed]",
      "text/plain": [
       "<Figure size 432x288 with 1 Axes>"
      ]
     },
     "metadata": {
      "needs_background": "light"
     },
     "output_type": "display_data"
    }
   ],
   "source": [
    "# Ploteamos los resultados\n",
    "plt.fill_between(profundidades, tree_train_scores_mean - tree_train_scores_std,\n",
    "                 tree_train_scores_mean + tree_train_scores_std, alpha=0.1,\n",
    "                 color=\"r\")\n",
    "plt.fill_between(profundidades, tree_test_scores_mean - tree_test_scores_std,\n",
    "                 tree_test_scores_mean + tree_test_scores_std, alpha=0.1, color=\"g\")\n",
    "\n",
    "plt.plot(profundidades, tree_train_scores_mean, 'o-', color=\"r\",\n",
    "         label=\"Training score\")\n",
    "plt.plot(profundidades, tree_test_scores_mean, 'o-', color=\"g\",\n",
    "         label=\"Test score\")\n",
    "\n",
    "plt.legend()\n",
    "plt.grid()\n",
    "plt.ylabel('Accuracy')\n",
    "plt.xlabel('Profundidad Arbol de Decision')\n",
    "plt.show()"
   ]
  },
  {
   "attachments": {},
   "cell_type": "markdown",
   "metadata": {},
   "source": [
    "##### De acuerdo a lo ensayado, tomar la profundidad óptima y medir"
   ]
  },
  {
   "cell_type": "code",
   "execution_count": 127,
   "metadata": {},
   "outputs": [],
   "source": [
    "clf = DecisionTreeClassifier(max_depth=2,criterion=\"entropy\")\n",
    "clf.fit(X.values, y.values)\n",
    "y_pred = clf.predict(X.values)"
   ]
  },
  {
   "cell_type": "code",
   "execution_count": 128,
   "metadata": {},
   "outputs": [
    {
     "name": "stderr",
     "output_type": "stream",
     "text": [
      "c:\\Users\\eugen\\AppData\\Local\\Programs\\Python\\Python310\\lib\\site-packages\\sklearn\\metrics\\_classification.py:1334: UndefinedMetricWarning: Precision and F-score are ill-defined and being set to 0.0 in labels with no predicted samples. Use `zero_division` parameter to control this behavior.\n",
      "  _warn_prf(average, modifier, msg_start, len(result))\n",
      "c:\\Users\\eugen\\AppData\\Local\\Programs\\Python\\Python310\\lib\\site-packages\\sklearn\\metrics\\_classification.py:1334: UndefinedMetricWarning: Precision and F-score are ill-defined and being set to 0.0 in labels with no predicted samples. Use `zero_division` parameter to control this behavior.\n",
      "  _warn_prf(average, modifier, msg_start, len(result))\n"
     ]
    },
    {
     "name": "stdout",
     "output_type": "stream",
     "text": [
      "              precision    recall  f1-score   support\n",
      "\n",
      "           0       0.00      0.00      0.00    154584\n",
      "           1       0.62      1.00      0.77    255416\n",
      "\n",
      "    accuracy                           0.62    410000\n",
      "   macro avg       0.31      0.50      0.38    410000\n",
      "weighted avg       0.39      0.62      0.48    410000\n",
      "\n"
     ]
    },
    {
     "name": "stderr",
     "output_type": "stream",
     "text": [
      "c:\\Users\\eugen\\AppData\\Local\\Programs\\Python\\Python310\\lib\\site-packages\\sklearn\\metrics\\_classification.py:1334: UndefinedMetricWarning: Precision and F-score are ill-defined and being set to 0.0 in labels with no predicted samples. Use `zero_division` parameter to control this behavior.\n",
      "  _warn_prf(average, modifier, msg_start, len(result))\n"
     ]
    }
   ],
   "source": [
    "print(classification_report(y, y_pred))"
   ]
  },
  {
   "attachments": {},
   "cell_type": "markdown",
   "metadata": {},
   "source": [
    "### Predicción"
   ]
  },
  {
   "cell_type": "code",
   "execution_count": 141,
   "metadata": {},
   "outputs": [],
   "source": [
    "# Entrenamos nuevamente el modelo con el dataset Train\n",
    "X = Train_2.drop(columns=['stay_(in_days)', 'long_stay', 'gender'])\n",
    "y = Train_2.long_stay\n",
    "clf = DecisionTreeClassifier(max_depth=5,criterion=\"entropy\")\n",
    "clf.fit(X.values, y.values)\n",
    "# Y realizamos la predicción para el dataset Test\n",
    "X = Test_2.drop(columns=['gender'])\n",
    "y_pred = clf.predict(X.values)"
   ]
  },
  {
   "cell_type": "code",
   "execution_count": 156,
   "metadata": {},
   "outputs": [
    {
     "data": {
      "text/plain": [
       "(90000,)"
      ]
     },
     "execution_count": 156,
     "metadata": {},
     "output_type": "execute_result"
    }
   ],
   "source": [
    "# Evaluamos la cantidad de datos\n",
    "y_pred.shape"
   ]
  },
  {
   "cell_type": "code",
   "execution_count": 145,
   "metadata": {},
   "outputs": [],
   "source": [
    "# Asignamos los datos al dataset\n",
    "Test_2['pred'] = y_pred"
   ]
  },
  {
   "cell_type": "code",
   "execution_count": 155,
   "metadata": {},
   "outputs": [
    {
     "data": {
      "text/html": [
       "<div>\n",
       "<style scoped>\n",
       "    .dataframe tbody tr th:only-of-type {\n",
       "        vertical-align: middle;\n",
       "    }\n",
       "\n",
       "    .dataframe tbody tr th {\n",
       "        vertical-align: top;\n",
       "    }\n",
       "\n",
       "    .dataframe thead th {\n",
       "        text-align: right;\n",
       "    }\n",
       "</style>\n",
       "<table border=\"1\" class=\"dataframe\">\n",
       "  <thead>\n",
       "    <tr style=\"text-align: right;\">\n",
       "      <th></th>\n",
       "      <th>department</th>\n",
       "      <th>age</th>\n",
       "      <th>gender</th>\n",
       "      <th>pred</th>\n",
       "    </tr>\n",
       "  </thead>\n",
       "  <tbody>\n",
       "    <tr>\n",
       "      <th>62748</th>\n",
       "      <td>3</td>\n",
       "      <td>4</td>\n",
       "      <td>0</td>\n",
       "      <td>0</td>\n",
       "    </tr>\n",
       "    <tr>\n",
       "      <th>85184</th>\n",
       "      <td>2</td>\n",
       "      <td>4</td>\n",
       "      <td>0</td>\n",
       "      <td>1</td>\n",
       "    </tr>\n",
       "    <tr>\n",
       "      <th>27617</th>\n",
       "      <td>2</td>\n",
       "      <td>2</td>\n",
       "      <td>0</td>\n",
       "      <td>1</td>\n",
       "    </tr>\n",
       "    <tr>\n",
       "      <th>72431</th>\n",
       "      <td>2</td>\n",
       "      <td>4</td>\n",
       "      <td>0</td>\n",
       "      <td>1</td>\n",
       "    </tr>\n",
       "    <tr>\n",
       "      <th>51880</th>\n",
       "      <td>2</td>\n",
       "      <td>1</td>\n",
       "      <td>0</td>\n",
       "      <td>1</td>\n",
       "    </tr>\n",
       "  </tbody>\n",
       "</table>\n",
       "</div>"
      ],
      "text/plain": [
       "       department  age  gender  pred\n",
       "62748           3    4       0     0\n",
       "85184           2    4       0     1\n",
       "27617           2    2       0     1\n",
       "72431           2    4       0     1\n",
       "51880           2    1       0     1"
      ]
     },
     "execution_count": 155,
     "metadata": {},
     "output_type": "execute_result"
    }
   ],
   "source": [
    "# Revisamos los resultados obtenidos\n",
    "Test_2.sample(5)"
   ]
  },
  {
   "cell_type": "code",
   "execution_count": 157,
   "metadata": {},
   "outputs": [],
   "source": [
    "# Tomamos únicamente la columna con las predicciones\n",
    "result = Test_2.pred"
   ]
  },
  {
   "cell_type": "code",
   "execution_count": 161,
   "metadata": {},
   "outputs": [],
   "source": [
    "# Exportamos la columna a un csv de acuerdo a la consigna del proyecto\n",
    "result.to_csv(r'C:\\Users\\eugen\\Documents\\Guille\\Bootcamp\\PI02_Datathon\\Datasets\\fernandezguille.csv', index=False)"
   ]
  }
 ],
 "metadata": {
  "kernelspec": {
   "display_name": "Python 3",
   "language": "python",
   "name": "python3"
  },
  "language_info": {
   "codemirror_mode": {
    "name": "ipython",
    "version": 3
   },
   "file_extension": ".py",
   "mimetype": "text/x-python",
   "name": "python",
   "nbconvert_exporter": "python",
   "pygments_lexer": "ipython3",
   "version": "3.10.5"
  },
  "orig_nbformat": 4,
  "vscode": {
   "interpreter": {
    "hash": "8030d4c8b54922542ddcca872d6eaa3b90843e3fd85d80bb02c262de6532e63b"
   }
  }
 },
 "nbformat": 4,
 "nbformat_minor": 2
}
