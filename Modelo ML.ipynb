{
 "cells": [
  {
   "attachments": {},
   "cell_type": "markdown",
   "metadata": {},
   "source": [
    "# Proyecto Individual 02 de Henry por Guillermo Fernandez"
   ]
  },
  {
   "attachments": {},
   "cell_type": "markdown",
   "metadata": {},
   "source": [
    "#### Importar librerías necesarias"
   ]
  },
  {
   "cell_type": "code",
   "execution_count": 34,
   "metadata": {},
   "outputs": [],
   "source": [
    "# Librería para trabajar con los datasets\n",
    "import pandas as pd\n",
    "import numpy as np\n",
    "\n",
    "# Módulo para trabajar con rutas de archivo\n",
    "from pathlib import Path\n",
    "\n",
    "# Librería para identificar encondings\n",
    "import chardet\n",
    "\n",
    "# Módulo para crear Pipeline\n",
    "from sklearn.pipeline import Pipeline\n",
    "\n",
    "# Módulo para procesar y recategorizar\n",
    "from sklearn import preprocessing as pp\n",
    "\n",
    "# Módulos para realizar modelos de Machine Learning\n",
    "from sklearn.tree import DecisionTreeClassifier\n",
    "from sklearn.linear_model import LogisticRegression\n",
    "from sklearn.neighbors import KNeighborsClassifier\n",
    "\n",
    "# Módulo para evaluar chi2\n",
    "from scipy import stats\n",
    "\n",
    "# Módulos para separar los datasets\n",
    "from sklearn.model_selection import cross_validate\n",
    "from sklearn.model_selection import train_test_split\n",
    "\n",
    "# Módulos para medir los modelos\n",
    "from sklearn import metrics as met\n",
    "\n",
    "# Módulo para guardar el pipeline\n",
    "import joblib\n",
    "\n",
    "# Librerías para visualizar gráficos\n",
    "import seaborn as sns\n",
    "import matplotlib.pyplot as plt\n",
    "\n",
    "# Módulo para limpiear el resultado de las celdas\n",
    "from IPython.display import clear_output\n"
   ]
  },
  {
   "cell_type": "markdown",
   "metadata": {},
   "source": [
    "#### Crear una función para importar los datasets"
   ]
  },
  {
   "cell_type": "code",
   "execution_count": 3,
   "metadata": {},
   "outputs": [],
   "source": [
    "# Para importar archivos csv, detectando encoding\n",
    "def upload(filepath):\n",
    "    with open(filepath, 'rb') as file:\n",
    "        result = chardet.detect(file.read())\n",
    "        DF = pd.read_csv(filepath, encoding=result['encoding'])\n",
    "    return DF"
   ]
  },
  {
   "attachments": {},
   "cell_type": "markdown",
   "metadata": {},
   "source": [
    "## EDA"
   ]
  },
  {
   "cell_type": "code",
   "execution_count": 4,
   "metadata": {},
   "outputs": [],
   "source": [
    "# Cargamos ambos datasets\n",
    "Train_df = upload(r'C:\\Users\\eugen\\Documents\\Guille\\Bootcamp\\PI02_Datathon\\Datasets\\hospitalizaciones_train.csv')\n",
    "Test_df = upload(r'C:\\Users\\eugen\\Documents\\Guille\\Bootcamp\\PI02_Datathon\\Datasets\\hospitalizaciones_test.csv')"
   ]
  },
  {
   "cell_type": "code",
   "execution_count": 5,
   "metadata": {},
   "outputs": [],
   "source": [
    "# Aplicamos una función para renombrar las columnas, reemplazando espacios por guión bajo, y aplicando minúsculas\n",
    "Train_df.rename(lambda x : x.lower().strip().replace(' ','_'), axis = 1, inplace = True)\n",
    "Test_df.rename(lambda x : x.lower().strip().replace(' ','_'), axis = 1, inplace = True)"
   ]
  },
  {
   "cell_type": "code",
   "execution_count": 6,
   "metadata": {},
   "outputs": [],
   "source": [
    "# Guardamos el original y trabajamos con una copia\n",
    "Train_original = Train_df.copy()\n",
    "Test_original = Test_df.copy()"
   ]
  },
  {
   "cell_type": "code",
   "execution_count": 7,
   "metadata": {},
   "outputs": [
    {
     "data": {
      "text/html": [
       "<div>\n",
       "<style scoped>\n",
       "    .dataframe tbody tr th:only-of-type {\n",
       "        vertical-align: middle;\n",
       "    }\n",
       "\n",
       "    .dataframe tbody tr th {\n",
       "        vertical-align: top;\n",
       "    }\n",
       "\n",
       "    .dataframe thead th {\n",
       "        text-align: right;\n",
       "    }\n",
       "</style>\n",
       "<table border=\"1\" class=\"dataframe\">\n",
       "  <thead>\n",
       "    <tr style=\"text-align: right;\">\n",
       "      <th></th>\n",
       "      <th>available_extra_rooms_in_hospital</th>\n",
       "      <th>department</th>\n",
       "      <th>ward_facility_code</th>\n",
       "      <th>doctor_name</th>\n",
       "      <th>staff_available</th>\n",
       "      <th>patientid</th>\n",
       "      <th>age</th>\n",
       "      <th>gender</th>\n",
       "      <th>type_of_admission</th>\n",
       "      <th>severity_of_illness</th>\n",
       "      <th>health_conditions</th>\n",
       "      <th>visitors_with_patient</th>\n",
       "      <th>insurance</th>\n",
       "      <th>admission_deposit</th>\n",
       "      <th>stay_(in_days)</th>\n",
       "    </tr>\n",
       "  </thead>\n",
       "  <tbody>\n",
       "    <tr>\n",
       "      <th>255452</th>\n",
       "      <td>10</td>\n",
       "      <td>gynecology</td>\n",
       "      <td>D</td>\n",
       "      <td>Dr Olivia</td>\n",
       "      <td>0</td>\n",
       "      <td>22472</td>\n",
       "      <td>21-30</td>\n",
       "      <td>Female</td>\n",
       "      <td>Trauma</td>\n",
       "      <td>Moderate</td>\n",
       "      <td>None</td>\n",
       "      <td>7</td>\n",
       "      <td>No</td>\n",
       "      <td>4741.692667</td>\n",
       "      <td>9</td>\n",
       "    </tr>\n",
       "  </tbody>\n",
       "</table>\n",
       "</div>"
      ],
      "text/plain": [
       "        available_extra_rooms_in_hospital  department ward_facility_code  \\\n",
       "255452                                 10  gynecology                  D   \n",
       "\n",
       "       doctor_name  staff_available  patientid    age  gender  \\\n",
       "255452   Dr Olivia                0      22472  21-30  Female   \n",
       "\n",
       "       type_of_admission severity_of_illness health_conditions  \\\n",
       "255452            Trauma            Moderate              None   \n",
       "\n",
       "        visitors_with_patient insurance  admission_deposit  stay_(in_days)  \n",
       "255452                      7        No        4741.692667               9  "
      ]
     },
     "execution_count": 7,
     "metadata": {},
     "output_type": "execute_result"
    }
   ],
   "source": [
    "# Tomamos una fila al azar para analizarlo\n",
    "Train_df.sample(1)"
   ]
  },
  {
   "cell_type": "code",
   "execution_count": 8,
   "metadata": {},
   "outputs": [
    {
     "data": {
      "text/html": [
       "<div>\n",
       "<style scoped>\n",
       "    .dataframe tbody tr th:only-of-type {\n",
       "        vertical-align: middle;\n",
       "    }\n",
       "\n",
       "    .dataframe tbody tr th {\n",
       "        vertical-align: top;\n",
       "    }\n",
       "\n",
       "    .dataframe thead th {\n",
       "        text-align: right;\n",
       "    }\n",
       "</style>\n",
       "<table border=\"1\" class=\"dataframe\">\n",
       "  <thead>\n",
       "    <tr style=\"text-align: right;\">\n",
       "      <th></th>\n",
       "      <th>available_extra_rooms_in_hospital</th>\n",
       "      <th>department</th>\n",
       "      <th>ward_facility_code</th>\n",
       "      <th>doctor_name</th>\n",
       "      <th>staff_available</th>\n",
       "      <th>patientid</th>\n",
       "      <th>age</th>\n",
       "      <th>gender</th>\n",
       "      <th>type_of_admission</th>\n",
       "      <th>severity_of_illness</th>\n",
       "      <th>health_conditions</th>\n",
       "      <th>visitors_with_patient</th>\n",
       "      <th>insurance</th>\n",
       "      <th>admission_deposit</th>\n",
       "    </tr>\n",
       "  </thead>\n",
       "  <tbody>\n",
       "    <tr>\n",
       "      <th>52941</th>\n",
       "      <td>2</td>\n",
       "      <td>gynecology</td>\n",
       "      <td>B</td>\n",
       "      <td>Dr Sophia</td>\n",
       "      <td>7</td>\n",
       "      <td>87384</td>\n",
       "      <td>21-30</td>\n",
       "      <td>Female</td>\n",
       "      <td>Trauma</td>\n",
       "      <td>Moderate</td>\n",
       "      <td>Diabetes</td>\n",
       "      <td>4</td>\n",
       "      <td>Yes</td>\n",
       "      <td>4439.537079</td>\n",
       "    </tr>\n",
       "  </tbody>\n",
       "</table>\n",
       "</div>"
      ],
      "text/plain": [
       "       available_extra_rooms_in_hospital  department ward_facility_code  \\\n",
       "52941                                  2  gynecology                  B   \n",
       "\n",
       "      doctor_name  staff_available  patientid    age  gender  \\\n",
       "52941   Dr Sophia                7      87384  21-30  Female   \n",
       "\n",
       "      type_of_admission severity_of_illness health_conditions  \\\n",
       "52941            Trauma            Moderate          Diabetes   \n",
       "\n",
       "       visitors_with_patient insurance  admission_deposit  \n",
       "52941                      4       Yes        4439.537079  "
      ]
     },
     "execution_count": 8,
     "metadata": {},
     "output_type": "execute_result"
    }
   ],
   "source": [
    "Test_df.sample(1)"
   ]
  },
  {
   "cell_type": "code",
   "execution_count": 9,
   "metadata": {},
   "outputs": [
    {
     "name": "stdout",
     "output_type": "stream",
     "text": [
      "<class 'pandas.core.frame.DataFrame'>\n",
      "RangeIndex: 410000 entries, 0 to 409999\n",
      "Data columns (total 15 columns):\n",
      " #   Column                             Non-Null Count   Dtype  \n",
      "---  ------                             --------------   -----  \n",
      " 0   available_extra_rooms_in_hospital  410000 non-null  int64  \n",
      " 1   department                         410000 non-null  object \n",
      " 2   ward_facility_code                 410000 non-null  object \n",
      " 3   doctor_name                        410000 non-null  object \n",
      " 4   staff_available                    410000 non-null  int64  \n",
      " 5   patientid                          410000 non-null  int64  \n",
      " 6   age                                410000 non-null  object \n",
      " 7   gender                             410000 non-null  object \n",
      " 8   type_of_admission                  410000 non-null  object \n",
      " 9   severity_of_illness                410000 non-null  object \n",
      " 10  health_conditions                  410000 non-null  object \n",
      " 11  visitors_with_patient              410000 non-null  int64  \n",
      " 12  insurance                          410000 non-null  object \n",
      " 13  admission_deposit                  410000 non-null  float64\n",
      " 14  stay_(in_days)                     410000 non-null  int64  \n",
      "dtypes: float64(1), int64(5), object(9)\n",
      "memory usage: 46.9+ MB\n"
     ]
    }
   ],
   "source": [
    "# Evaluamos información del dataset, como Dtype y nulos\n",
    "Train_df.info()"
   ]
  },
  {
   "cell_type": "code",
   "execution_count": 10,
   "metadata": {},
   "outputs": [
    {
     "name": "stdout",
     "output_type": "stream",
     "text": [
      "<class 'pandas.core.frame.DataFrame'>\n",
      "RangeIndex: 90000 entries, 0 to 89999\n",
      "Data columns (total 14 columns):\n",
      " #   Column                             Non-Null Count  Dtype  \n",
      "---  ------                             --------------  -----  \n",
      " 0   available_extra_rooms_in_hospital  90000 non-null  int64  \n",
      " 1   department                         90000 non-null  object \n",
      " 2   ward_facility_code                 90000 non-null  object \n",
      " 3   doctor_name                        90000 non-null  object \n",
      " 4   staff_available                    90000 non-null  int64  \n",
      " 5   patientid                          90000 non-null  int64  \n",
      " 6   age                                90000 non-null  object \n",
      " 7   gender                             90000 non-null  object \n",
      " 8   type_of_admission                  90000 non-null  object \n",
      " 9   severity_of_illness                90000 non-null  object \n",
      " 10  health_conditions                  90000 non-null  object \n",
      " 11  visitors_with_patient              90000 non-null  int64  \n",
      " 12  insurance                          90000 non-null  object \n",
      " 13  admission_deposit                  90000 non-null  float64\n",
      "dtypes: float64(1), int64(4), object(9)\n",
      "memory usage: 9.6+ MB\n"
     ]
    }
   ],
   "source": [
    "Test_df.info()"
   ]
  },
  {
   "attachments": {},
   "cell_type": "markdown",
   "metadata": {},
   "source": [
    "## Data Preprocessing"
   ]
  },
  {
   "attachments": {},
   "cell_type": "markdown",
   "metadata": {},
   "source": [
    "#### Feature relevante"
   ]
  },
  {
   "cell_type": "code",
   "execution_count": 11,
   "metadata": {},
   "outputs": [],
   "source": [
    "# Eliminamos los datos duplicados\n",
    "Train_df.drop_duplicates();\n",
    "Test_df.drop_duplicates();"
   ]
  },
  {
   "cell_type": "code",
   "execution_count": 12,
   "metadata": {},
   "outputs": [],
   "source": [
    "# Agregamos el feature que nos interesa predecir, si la estadía es prolongada\n",
    "Train_df['long_stay'] = (Train_df['stay_(in_days)'] > 8)\n",
    "Train_df['long_stay'].astype(str).replace({False: 0, True: 1})\n",
    "Train_df['long_stay'] = Train_df['long_stay'].astype(int)\n",
    "# Dropeamos la columna 'stay_(in_days)' para evitar redundancia\n",
    "Train_df.drop(columns='stay_(in_days)', inplace=True);"
   ]
  },
  {
   "cell_type": "code",
   "execution_count": 13,
   "metadata": {},
   "outputs": [
    {
     "data": {
      "text/html": [
       "<div>\n",
       "<style scoped>\n",
       "    .dataframe tbody tr th:only-of-type {\n",
       "        vertical-align: middle;\n",
       "    }\n",
       "\n",
       "    .dataframe tbody tr th {\n",
       "        vertical-align: top;\n",
       "    }\n",
       "\n",
       "    .dataframe thead th {\n",
       "        text-align: right;\n",
       "    }\n",
       "</style>\n",
       "<table border=\"1\" class=\"dataframe\">\n",
       "  <thead>\n",
       "    <tr style=\"text-align: right;\">\n",
       "      <th></th>\n",
       "      <th>available_extra_rooms_in_hospital</th>\n",
       "      <th>department</th>\n",
       "      <th>ward_facility_code</th>\n",
       "      <th>doctor_name</th>\n",
       "      <th>staff_available</th>\n",
       "      <th>patientid</th>\n",
       "      <th>age</th>\n",
       "      <th>gender</th>\n",
       "      <th>type_of_admission</th>\n",
       "      <th>severity_of_illness</th>\n",
       "      <th>health_conditions</th>\n",
       "      <th>visitors_with_patient</th>\n",
       "      <th>insurance</th>\n",
       "      <th>admission_deposit</th>\n",
       "      <th>long_stay</th>\n",
       "    </tr>\n",
       "  </thead>\n",
       "  <tbody>\n",
       "    <tr>\n",
       "      <th>224970</th>\n",
       "      <td>4</td>\n",
       "      <td>gynecology</td>\n",
       "      <td>D</td>\n",
       "      <td>Dr Nathan</td>\n",
       "      <td>8</td>\n",
       "      <td>85039</td>\n",
       "      <td>41-50</td>\n",
       "      <td>Female</td>\n",
       "      <td>Trauma</td>\n",
       "      <td>Extreme</td>\n",
       "      <td>Other</td>\n",
       "      <td>4</td>\n",
       "      <td>Yes</td>\n",
       "      <td>4635.211421</td>\n",
       "      <td>0</td>\n",
       "    </tr>\n",
       "  </tbody>\n",
       "</table>\n",
       "</div>"
      ],
      "text/plain": [
       "        available_extra_rooms_in_hospital  department ward_facility_code  \\\n",
       "224970                                  4  gynecology                  D   \n",
       "\n",
       "       doctor_name  staff_available  patientid    age  gender  \\\n",
       "224970   Dr Nathan                8      85039  41-50  Female   \n",
       "\n",
       "       type_of_admission severity_of_illness health_conditions  \\\n",
       "224970            Trauma             Extreme             Other   \n",
       "\n",
       "        visitors_with_patient insurance  admission_deposit  long_stay  \n",
       "224970                      4       Yes        4635.211421          0  "
      ]
     },
     "execution_count": 13,
     "metadata": {},
     "output_type": "execute_result"
    }
   ],
   "source": [
    "Train_df.sample(1)"
   ]
  },
  {
   "cell_type": "code",
   "execution_count": 14,
   "metadata": {},
   "outputs": [
    {
     "data": {
      "text/plain": [
       "1    255416\n",
       "0    154584\n",
       "Name: long_stay, dtype: int64"
      ]
     },
     "execution_count": 14,
     "metadata": {},
     "output_type": "execute_result"
    }
   ],
   "source": [
    "# Revisamos la cantidad de valores del feature agregado\n",
    "Train_df.long_stay.value_counts()"
   ]
  },
  {
   "attachments": {},
   "cell_type": "markdown",
   "metadata": {},
   "source": [
    "### Analizar correlación de acuerdo al P valor"
   ]
  },
  {
   "cell_type": "code",
   "execution_count": 15,
   "metadata": {},
   "outputs": [],
   "source": [
    "# Tomamos los nombres de todas las columnas\n",
    "list(Train_df.columns)[:-1];"
   ]
  },
  {
   "cell_type": "code",
   "execution_count": 17,
   "metadata": {},
   "outputs": [
    {
     "name": "stdout",
     "output_type": "stream",
     "text": [
      "available_extra_rooms_in_hospital: 0.0\n",
      "department: 0.0\n",
      "ward_facility_code: 0.0\n",
      "doctor_name: 0.0\n",
      "staff_available: 0.027185032657605284\n",
      "patientid: 0.29157056421547367\n",
      "age: 0.0\n",
      "gender: 0.0\n",
      "type_of_admission: 1.6947748596830503e-21\n",
      "severity_of_illness: 2.875013724138087e-130\n",
      "health_conditions: 5.6584831831517945e-09\n",
      "visitors_with_patient: 0.0\n",
      "insurance: 0.4988221951889673\n",
      "admission_deposit: 0.49327701140734725\n"
     ]
    }
   ],
   "source": [
    "# Evaluamos la correlación con la feature seleccionada de cada otra feature (no numérica)\n",
    "for elem in list(Train_df.columns)[:-1]:\n",
    "    P_valor = stats.chi2_contingency(np.array(pd.crosstab(Train_df[elem], Train_df.long_stay)))[1]\n",
    "    print(f'{elem}: {P_valor}')"
   ]
  },
  {
   "cell_type": "code",
   "execution_count": null,
   "metadata": {},
   "outputs": [
    {
     "data": {
      "text/html": [
       "<div>\n",
       "<style scoped>\n",
       "    .dataframe tbody tr th:only-of-type {\n",
       "        vertical-align: middle;\n",
       "    }\n",
       "\n",
       "    .dataframe tbody tr th {\n",
       "        vertical-align: top;\n",
       "    }\n",
       "\n",
       "    .dataframe thead th {\n",
       "        text-align: right;\n",
       "    }\n",
       "</style>\n",
       "<table border=\"1\" class=\"dataframe\">\n",
       "  <thead>\n",
       "    <tr style=\"text-align: right;\">\n",
       "      <th></th>\n",
       "      <th>available_extra_rooms_in_hospital</th>\n",
       "      <th>staff_available</th>\n",
       "      <th>patientid</th>\n",
       "      <th>visitors_with_patient</th>\n",
       "      <th>admission_deposit</th>\n",
       "      <th>long_stay</th>\n",
       "    </tr>\n",
       "  </thead>\n",
       "  <tbody>\n",
       "    <tr>\n",
       "      <th>available_extra_rooms_in_hospital</th>\n",
       "      <td>1.000000</td>\n",
       "      <td>-0.003064</td>\n",
       "      <td>-0.005426</td>\n",
       "      <td>0.071073</td>\n",
       "      <td>-0.050775</td>\n",
       "      <td>0.053894</td>\n",
       "    </tr>\n",
       "    <tr>\n",
       "      <th>staff_available</th>\n",
       "      <td>-0.003064</td>\n",
       "      <td>1.000000</td>\n",
       "      <td>-0.000350</td>\n",
       "      <td>0.001444</td>\n",
       "      <td>0.000816</td>\n",
       "      <td>0.002883</td>\n",
       "    </tr>\n",
       "    <tr>\n",
       "      <th>patientid</th>\n",
       "      <td>-0.005426</td>\n",
       "      <td>-0.000350</td>\n",
       "      <td>1.000000</td>\n",
       "      <td>-0.006393</td>\n",
       "      <td>0.011602</td>\n",
       "      <td>-0.000532</td>\n",
       "    </tr>\n",
       "    <tr>\n",
       "      <th>visitors_with_patient</th>\n",
       "      <td>0.071073</td>\n",
       "      <td>0.001444</td>\n",
       "      <td>-0.006393</td>\n",
       "      <td>1.000000</td>\n",
       "      <td>-0.069566</td>\n",
       "      <td>-0.009529</td>\n",
       "    </tr>\n",
       "    <tr>\n",
       "      <th>admission_deposit</th>\n",
       "      <td>-0.050775</td>\n",
       "      <td>0.000816</td>\n",
       "      <td>0.011602</td>\n",
       "      <td>-0.069566</td>\n",
       "      <td>1.000000</td>\n",
       "      <td>-0.016650</td>\n",
       "    </tr>\n",
       "    <tr>\n",
       "      <th>long_stay</th>\n",
       "      <td>0.053894</td>\n",
       "      <td>0.002883</td>\n",
       "      <td>-0.000532</td>\n",
       "      <td>-0.009529</td>\n",
       "      <td>-0.016650</td>\n",
       "      <td>1.000000</td>\n",
       "    </tr>\n",
       "  </tbody>\n",
       "</table>\n",
       "</div>"
      ],
      "text/plain": [
       "                                   available_extra_rooms_in_hospital  \\\n",
       "available_extra_rooms_in_hospital                           1.000000   \n",
       "staff_available                                            -0.003064   \n",
       "patientid                                                  -0.005426   \n",
       "visitors_with_patient                                       0.071073   \n",
       "admission_deposit                                          -0.050775   \n",
       "long_stay                                                   0.053894   \n",
       "\n",
       "                                   staff_available  patientid  \\\n",
       "available_extra_rooms_in_hospital        -0.003064  -0.005426   \n",
       "staff_available                           1.000000  -0.000350   \n",
       "patientid                                -0.000350   1.000000   \n",
       "visitors_with_patient                     0.001444  -0.006393   \n",
       "admission_deposit                         0.000816   0.011602   \n",
       "long_stay                                 0.002883  -0.000532   \n",
       "\n",
       "                                   visitors_with_patient  admission_deposit  \\\n",
       "available_extra_rooms_in_hospital               0.071073          -0.050775   \n",
       "staff_available                                 0.001444           0.000816   \n",
       "patientid                                      -0.006393           0.011602   \n",
       "visitors_with_patient                           1.000000          -0.069566   \n",
       "admission_deposit                              -0.069566           1.000000   \n",
       "long_stay                                      -0.009529          -0.016650   \n",
       "\n",
       "                                   long_stay  \n",
       "available_extra_rooms_in_hospital   0.053894  \n",
       "staff_available                     0.002883  \n",
       "patientid                          -0.000532  \n",
       "visitors_with_patient              -0.009529  \n",
       "admission_deposit                  -0.016650  \n",
       "long_stay                           1.000000  "
      ]
     },
     "execution_count": 16,
     "metadata": {},
     "output_type": "execute_result"
    }
   ],
   "source": [
    "# Evaluamos la correlación con features numéricas\n",
    "Train_df.corr()"
   ]
  },
  {
   "attachments": {},
   "cell_type": "markdown",
   "metadata": {},
   "source": [
    "### Realizar tratamiento de features"
   ]
  },
  {
   "attachments": {},
   "cell_type": "markdown",
   "metadata": {},
   "source": [
    "##### Se eliminan columnas que no tienen significado numérico y presentan ninguna correlación"
   ]
  },
  {
   "cell_type": "code",
   "execution_count": 18,
   "metadata": {},
   "outputs": [],
   "source": [
    "# patientid no tiene significado numérico, insurance no tiene correlación\n",
    "Train_df.drop(columns=['patientid', 'insurance'], inplace=True)\n",
    "Test_df.drop(columns=['patientid', 'insurance'], inplace=True)"
   ]
  },
  {
   "cell_type": "code",
   "execution_count": 19,
   "metadata": {},
   "outputs": [
    {
     "name": "stdout",
     "output_type": "stream",
     "text": [
      "available_extra_rooms_in_hospital\n",
      "        Train: 18 [ 0  1  2  3  4  5  6  7  8  9 10 11 12 13 14 20 21 24]\n",
      "        Test:  18 [ 0  1  2  3  4  5  6  7  8  9 10 11 12 13 14 20 21 24]\n",
      "Son iguales: True\n",
      "department\n",
      "        Train: 5 ['TB & Chest disease' 'anesthesia' 'gynecology' 'radiotherapy' 'surgery']\n",
      "        Test:  5 ['TB & Chest disease' 'anesthesia' 'gynecology' 'radiotherapy' 'surgery']\n",
      "Son iguales: True\n",
      "ward_facility_code\n",
      "        Train: 6 ['A' 'B' 'C' 'D' 'E' 'F']\n",
      "        Test:  6 ['A' 'B' 'C' 'D' 'E' 'F']\n",
      "Son iguales: True\n",
      "doctor_name\n",
      "        Train: 9 ['Dr Isaac' 'Dr John' 'Dr Mark' 'Dr Nathan' 'Dr Olivia' 'Dr Sam'\n",
      " 'Dr Sarah' 'Dr Simon' 'Dr Sophia']\n",
      "        Test:  9 ['Dr Isaac' 'Dr John' 'Dr Mark' 'Dr Nathan' 'Dr Olivia' 'Dr Sam'\n",
      " 'Dr Sarah' 'Dr Simon' 'Dr Sophia']\n",
      "Son iguales: True\n",
      "staff_available\n",
      "        Train: 11 [ 0  1  2  3  4  5  6  7  8  9 10]\n",
      "        Test:  11 [ 0  1  2  3  4  5  6  7  8  9 10]\n",
      "Son iguales: True\n",
      "age\n",
      "        Train: 10 ['0-10' '11-20' '21-30' '31-40' '41-50' '51-60' '61-70' '71-80' '81-90'\n",
      " '91-100']\n",
      "        Test:  10 ['0-10' '11-20' '21-30' '31-40' '41-50' '51-60' '61-70' '71-80' '81-90'\n",
      " '91-100']\n",
      "Son iguales: True\n",
      "gender\n",
      "        Train: 3 ['Female' 'Male' 'Other']\n",
      "        Test:  3 ['Female' 'Male' 'Other']\n",
      "Son iguales: True\n",
      "type_of_admission\n",
      "        Train: 3 ['Emergency' 'Trauma' 'Urgent']\n",
      "        Test:  3 ['Emergency' 'Trauma' 'Urgent']\n",
      "Son iguales: True\n",
      "severity_of_illness\n",
      "        Train: 3 ['Extreme' 'Minor' 'Moderate']\n",
      "        Test:  3 ['Extreme' 'Minor' 'Moderate']\n",
      "Son iguales: True\n",
      "health_conditions\n",
      "        Train: 6 ['Asthama' 'Diabetes' 'Heart disease' 'High Blood Pressure' 'None' 'Other']\n",
      "        Test:  6 ['Asthama' 'Diabetes' 'Heart disease' 'High Blood Pressure' 'None' 'Other']\n",
      "Son iguales: True\n",
      "visitors_with_patient\n",
      "        Train: 28 [ 0  1  2  3  4  5  6  7  8  9 10 11 12 13 14 15 16 17 18 19 20 21 22 23\n",
      " 24 25 30 32]\n",
      "        Test:  28 [ 0  1  2  3  4  5  6  7  8  9 10 11 12 13 14 15 16 17 18 19 20 21 22 23\n",
      " 24 25 30 32]\n",
      "Son iguales: True\n",
      "admission_deposit\n",
      "        Train: 409682 [ 1654.005148  1690.915275  1695.298618 ...  9897.655509  9899.192317\n",
      " 10104.72639 ]\n",
      "        Test:  89984 [1710.212495 1773.465559 1783.124428 ... 9616.622654 9759.69585\n",
      " 9872.650668]\n",
      "Son iguales: True\n"
     ]
    }
   ],
   "source": [
    "# Revisamos que las features en ambos datasets sean iguales\n",
    "for elem in list(Test_df.columns):\n",
    "    print(f'{elem}')\n",
    "    unicos_train, unicos_test = Train_df[elem].sort_values().unique(), Test_df[elem].sort_values().unique()\n",
    "    print(f'        Train: {len(unicos_train)} {unicos_train}')\n",
    "    print(f'        Test:  {len(unicos_test)} {unicos_test}')\n",
    "    print(f'Son iguales: {unicos_test.all() == unicos_train.all()}')"
   ]
  },
  {
   "attachments": {},
   "cell_type": "markdown",
   "metadata": {},
   "source": [
    "#### Recategorizar las variables"
   ]
  },
  {
   "cell_type": "code",
   "execution_count": 20,
   "metadata": {},
   "outputs": [],
   "source": [
    "# Utilizamos OneHotEncoder para modificar variables categóricas\n",
    "OHE = pp.OneHotEncoder(categories='auto')\n",
    "# Aplicamos a las columnas categóricas\n",
    "OHE_df = OHE.fit_transform(Train_df[['department', 'ward_facility_code', 'doctor_name', 'gender',\n",
    "                                     'type_of_admission', 'health_conditions']]).toarray()"
   ]
  },
  {
   "cell_type": "code",
   "execution_count": 21,
   "metadata": {},
   "outputs": [],
   "source": [
    "# Transformamos y unimos al DF original\n",
    "OHE_df = pd.DataFrame(OHE_df, columns=OHE.get_feature_names_out())\n",
    "Train_df = pd.concat([Train_df, OHE_df], axis=1)"
   ]
  },
  {
   "cell_type": "code",
   "execution_count": 22,
   "metadata": {},
   "outputs": [],
   "source": [
    "# Se eliminan las columnas que fueron transformadas\n",
    "Train_df.drop(columns = ['department', 'ward_facility_code', 'doctor_name', 'gender',\n",
    "                         'type_of_admission', 'health_conditions'], inplace = True)"
   ]
  },
  {
   "cell_type": "code",
   "execution_count": 23,
   "metadata": {},
   "outputs": [],
   "source": [
    "# Ahora hacemos similar pero con OrdinalEncoder\n",
    "ORE = pp.OrdinalEncoder()\n",
    "Train_df.age = ORE.fit_transform(Train_df[['age']])\n",
    "Train_df.severity_of_illness = ORE.fit_transform(Train_df[['severity_of_illness']])"
   ]
  },
  {
   "cell_type": "code",
   "execution_count": 24,
   "metadata": {},
   "outputs": [
    {
     "data": {
      "text/html": [
       "<div>\n",
       "<style scoped>\n",
       "    .dataframe tbody tr th:only-of-type {\n",
       "        vertical-align: middle;\n",
       "    }\n",
       "\n",
       "    .dataframe tbody tr th {\n",
       "        vertical-align: top;\n",
       "    }\n",
       "\n",
       "    .dataframe thead th {\n",
       "        text-align: right;\n",
       "    }\n",
       "</style>\n",
       "<table border=\"1\" class=\"dataframe\">\n",
       "  <thead>\n",
       "    <tr style=\"text-align: right;\">\n",
       "      <th></th>\n",
       "      <th>available_extra_rooms_in_hospital</th>\n",
       "      <th>staff_available</th>\n",
       "      <th>age</th>\n",
       "      <th>severity_of_illness</th>\n",
       "      <th>visitors_with_patient</th>\n",
       "      <th>admission_deposit</th>\n",
       "      <th>long_stay</th>\n",
       "      <th>department_TB &amp; Chest disease</th>\n",
       "      <th>department_anesthesia</th>\n",
       "      <th>department_gynecology</th>\n",
       "      <th>...</th>\n",
       "      <th>gender_Other</th>\n",
       "      <th>type_of_admission_Emergency</th>\n",
       "      <th>type_of_admission_Trauma</th>\n",
       "      <th>type_of_admission_Urgent</th>\n",
       "      <th>health_conditions_Asthama</th>\n",
       "      <th>health_conditions_Diabetes</th>\n",
       "      <th>health_conditions_Heart disease</th>\n",
       "      <th>health_conditions_High Blood Pressure</th>\n",
       "      <th>health_conditions_None</th>\n",
       "      <th>health_conditions_Other</th>\n",
       "    </tr>\n",
       "  </thead>\n",
       "  <tbody>\n",
       "    <tr>\n",
       "      <th>119721</th>\n",
       "      <td>5</td>\n",
       "      <td>9</td>\n",
       "      <td>4.0</td>\n",
       "      <td>0.0</td>\n",
       "      <td>2</td>\n",
       "      <td>4585.166195</td>\n",
       "      <td>1</td>\n",
       "      <td>0.0</td>\n",
       "      <td>0.0</td>\n",
       "      <td>1.0</td>\n",
       "      <td>...</td>\n",
       "      <td>0.0</td>\n",
       "      <td>1.0</td>\n",
       "      <td>0.0</td>\n",
       "      <td>0.0</td>\n",
       "      <td>1.0</td>\n",
       "      <td>0.0</td>\n",
       "      <td>0.0</td>\n",
       "      <td>0.0</td>\n",
       "      <td>0.0</td>\n",
       "      <td>0.0</td>\n",
       "    </tr>\n",
       "  </tbody>\n",
       "</table>\n",
       "<p>1 rows × 39 columns</p>\n",
       "</div>"
      ],
      "text/plain": [
       "        available_extra_rooms_in_hospital  staff_available  age  \\\n",
       "119721                                  5                9  4.0   \n",
       "\n",
       "        severity_of_illness  visitors_with_patient  admission_deposit  \\\n",
       "119721                  0.0                      2        4585.166195   \n",
       "\n",
       "        long_stay  department_TB & Chest disease  department_anesthesia  \\\n",
       "119721          1                            0.0                    0.0   \n",
       "\n",
       "        department_gynecology  ...  gender_Other  type_of_admission_Emergency  \\\n",
       "119721                    1.0  ...           0.0                          1.0   \n",
       "\n",
       "        type_of_admission_Trauma  type_of_admission_Urgent  \\\n",
       "119721                       0.0                       0.0   \n",
       "\n",
       "        health_conditions_Asthama  health_conditions_Diabetes  \\\n",
       "119721                        1.0                         0.0   \n",
       "\n",
       "        health_conditions_Heart disease  \\\n",
       "119721                              0.0   \n",
       "\n",
       "        health_conditions_High Blood Pressure  health_conditions_None  \\\n",
       "119721                                    0.0                     0.0   \n",
       "\n",
       "        health_conditions_Other  \n",
       "119721                      0.0  \n",
       "\n",
       "[1 rows x 39 columns]"
      ]
     },
     "execution_count": 24,
     "metadata": {},
     "output_type": "execute_result"
    }
   ],
   "source": [
    "Train_df.sample(1)"
   ]
  },
  {
   "cell_type": "code",
   "execution_count": 25,
   "metadata": {},
   "outputs": [],
   "source": [
    "# Repetimos para el set de testeo\n",
    "OHE_df = OHE.fit_transform(Test_df[['department', 'ward_facility_code', 'doctor_name', 'gender',\n",
    "                                     'type_of_admission', 'health_conditions']]).toarray()\n",
    "OHE_df = pd.DataFrame(OHE_df, columns=OHE.get_feature_names_out())\n",
    "Test_df = pd.concat([Test_df, OHE_df], axis=1)\n",
    "Test_df.drop(columns = ['department', 'ward_facility_code', 'doctor_name', 'gender',\n",
    "                         'type_of_admission', 'health_conditions'], inplace = True)\n",
    "Test_df.age = ORE.fit_transform(Test_df[['age']])\n",
    "Test_df.severity_of_illness = ORE.fit_transform(Test_df[['severity_of_illness']])\n"
   ]
  },
  {
   "attachments": {},
   "cell_type": "markdown",
   "metadata": {},
   "source": [
    "## Pipeline"
   ]
  },
  {
   "cell_type": "code",
   "execution_count": 26,
   "metadata": {},
   "outputs": [],
   "source": [
    "# Separamos los datos para realizar el entrenamiento de modelos\n",
    "X = Train_df.drop(columns=['long_stay'])\n",
    "y = Train_df.long_stay\n",
    "X_Train, X_Test, Y_Train, Y_Test = train_test_split(X, y, test_size = 0.25, random_state=21)"
   ]
  },
  {
   "cell_type": "code",
   "execution_count": 36,
   "metadata": {},
   "outputs": [],
   "source": [
    "# Instanciamos diferentes Pipelines para los distintos modelos que buscamos evaluar \n",
    "LR_Pipe = Pipeline([(\"scl\", pp.StandardScaler()),\n",
    "                    (\"LR\", LogisticRegression())])\n",
    "\n",
    "KNN_Pipe = Pipeline([(\"scl\", pp.StandardScaler()),\n",
    "                     (\"KNN\", KNeighborsClassifier())])\n",
    "\n",
    "Tree_Pipe = Pipeline([(\"scl\", pp.StandardScaler()),\n",
    "                      (\"Tree\", DecisionTreeClassifier())])"
   ]
  },
  {
   "cell_type": "code",
   "execution_count": 37,
   "metadata": {},
   "outputs": [],
   "source": [
    "# Creamos la lista y el diccionario para las iteraciones e identificaciones\n",
    "pipelines = [LR_Pipe, KNN_Pipe, Tree_Pipe]\n",
    "pipe_dict = {0: \"LogisticRegression\", 1: \"KNeighborsClassifier\", 2: \"DecisionTreeClassifier\"}"
   ]
  },
  {
   "cell_type": "code",
   "execution_count": 38,
   "metadata": {},
   "outputs": [
    {
     "name": "stdout",
     "output_type": "stream",
     "text": [
      "3 modelo/s entrenado/s!\n"
     ]
    }
   ],
   "source": [
    "# Entrenamos los diferentes modelos\n",
    "for cant, pipe in enumerate(pipelines, start=1):\n",
    "    pipe.fit(X_Train,Y_Train)\n",
    "    clear_output(wait=True)\n",
    "    print(f'{cant} modelo/s entrenado/s!')"
   ]
  },
  {
   "cell_type": "code",
   "execution_count": 39,
   "metadata": {},
   "outputs": [
    {
     "name": "stdout",
     "output_type": "stream",
     "text": [
      "LogisticRegression pipeline accuracy en test: 0.6030146341463415\n",
      "KNeighborsClassifier pipeline accuracy en test: 0.7060390243902439\n",
      "DecisionTreeClassifier pipeline accuracy en test: 0.7674243902439024\n"
     ]
    }
   ],
   "source": [
    "# Evaluamos los resultados de los distintos modelos\n",
    "for idx, val in enumerate(pipelines):\n",
    "\tprint(f'{pipe_dict[idx]} pipeline accuracy en test: {val.score(X_Test, Y_Test)}')"
   ]
  },
  {
   "cell_type": "code",
   "execution_count": 40,
   "metadata": {},
   "outputs": [
    {
     "name": "stdout",
     "output_type": "stream",
     "text": [
      "El modelo con el mejor accuracy es: DecisionTreeClassifier\n"
     ]
    }
   ],
   "source": [
    "# Identificamos el mejor modelo para el set de testeo\n",
    "best_acc, best_clf, best_pipe = 0.0, 0, ''\n",
    "for idx, val in enumerate(pipelines):\n",
    "\tif val.score(X_Test, Y_Test) > best_acc:\n",
    "\t\tbest_acc, best_pipe, best_clf = val.score(X_Test, Y_Test), val, idx\n",
    "print(f'El modelo con el mejor accuracy es: {pipe_dict[best_clf]}')"
   ]
  },
  {
   "cell_type": "code",
   "execution_count": 41,
   "metadata": {},
   "outputs": [
    {
     "name": "stdout",
     "output_type": "stream",
     "text": [
      "Pipeline de DecisionTreeClassifier guardado a archivo\n"
     ]
    }
   ],
   "source": [
    "# Guardamos el pipeline en un archivo\n",
    "joblib.dump(best_pipe, 'Mejor_pipeline.pkl', compress=1)\n",
    "print(f'Pipeline de {pipe_dict[best_clf]} guardado a archivo')"
   ]
  },
  {
   "attachments": {},
   "cell_type": "markdown",
   "metadata": {},
   "source": [
    "## Modelado - Árbol de desición"
   ]
  },
  {
   "attachments": {},
   "cell_type": "markdown",
   "metadata": {},
   "source": [
    "Se eligió el árbol de desición debido a que fue el que mejor resultado dió en el pipeline"
   ]
  },
  {
   "attachments": {},
   "cell_type": "markdown",
   "metadata": {},
   "source": [
    "### Identificar la profundidad"
   ]
  },
  {
   "cell_type": "code",
   "execution_count": 42,
   "metadata": {},
   "outputs": [
    {
     "name": "stdout",
     "output_type": "stream",
     "text": [
      "Arbol de profundidad 24 entrenado!\n"
     ]
    }
   ],
   "source": [
    "# Realizamos una iteración para evaluar la profundidad óptima del árbol\n",
    "tree_train_scores_mean = []\n",
    "tree_train_scores_std = []\n",
    "# Iniciamos listas para guardar los valores\n",
    "tree_test_scores_mean = []\n",
    "tree_test_scores_std = []\n",
    "# Consideramos 25 como profundidad máxima\n",
    "profundidades = np.arange(1,25,1)\n",
    "\n",
    "for profundidad in profundidades:\n",
    "    # Instanciamos el arbol\n",
    "    clf = DecisionTreeClassifier(max_depth=profundidad,criterion=\"entropy\")\n",
    "    # Realizamos tres pruebas gracias al metodo cross_validate\n",
    "    tree_scores = cross_validate(clf, X, y, cv=3, return_train_score=True, n_jobs = -1)\n",
    "    # Guardamos los valores tanto del entrenamiento como del test\n",
    "    tree_train_scores_mean.append(tree_scores['train_score'].mean())\n",
    "    tree_train_scores_std.append(tree_scores['train_score'].std())\n",
    "    \n",
    "    tree_test_scores_mean.append(tree_scores['test_score'].mean())\n",
    "    tree_test_scores_std.append(tree_scores['test_score'].std())\n",
    "    clear_output(wait=True)\n",
    "    print(f'Arbol de profundidad {profundidad} entrenado!')\n",
    "#Transformamos los valores para poder graficarlos\n",
    "tree_train_scores_mean = np.array(tree_train_scores_mean)\n",
    "tree_train_scores_std = np.array(tree_train_scores_std)\n",
    "tree_test_scores_mean = np.array(tree_test_scores_mean)\n",
    "tree_test_scores_std = np.array(tree_test_scores_std)"
   ]
  },
  {
   "cell_type": "code",
   "execution_count": 43,
   "metadata": {},
   "outputs": [
    {
     "data": {
      "image/png": "[encoded data removed]",
      "text/plain": [
       "<Figure size 432x288 with 1 Axes>"
      ]
     },
     "metadata": {
      "needs_background": "light"
     },
     "output_type": "display_data"
    }
   ],
   "source": [
    "# Ploteamos los resultados\n",
    "plt.fill_between(profundidades, tree_train_scores_mean - tree_train_scores_std,\n",
    "                 tree_train_scores_mean + tree_train_scores_std, alpha=0.1,\n",
    "                 color=\"r\")\n",
    "plt.fill_between(profundidades, tree_test_scores_mean - tree_test_scores_std,\n",
    "                 tree_test_scores_mean + tree_test_scores_std, alpha=0.1, color=\"g\")\n",
    "\n",
    "plt.plot(profundidades, tree_train_scores_mean, 'o-', color=\"r\",\n",
    "         label=\"Training score\")\n",
    "plt.plot(profundidades, tree_test_scores_mean, 'o-', color=\"g\",\n",
    "         label=\"Test score\")\n",
    "\n",
    "plt.legend()\n",
    "plt.grid()\n",
    "plt.ylabel('Accuracy')\n",
    "plt.xlabel('Profundidad Arbol de Decision')\n",
    "plt.show()"
   ]
  },
  {
   "attachments": {},
   "cell_type": "markdown",
   "metadata": {},
   "source": [
    "### Medir rendimiento de la profundidad óptima"
   ]
  },
  {
   "cell_type": "code",
   "execution_count": 56,
   "metadata": {},
   "outputs": [
    {
     "name": "stdout",
     "output_type": "stream",
     "text": [
      "              precision    recall  f1-score   support\n",
      "\n",
      "           0       0.69      0.63      0.66     38805\n",
      "           1       0.79      0.83      0.81     63695\n",
      "\n",
      "    accuracy                           0.75    102500\n",
      "   macro avg       0.74      0.73      0.73    102500\n",
      "weighted avg       0.75      0.75      0.75    102500\n",
      "\n"
     ]
    }
   ],
   "source": [
    "clf = DecisionTreeClassifier(max_depth=15,criterion=\"entropy\")\n",
    "clf.fit(X_Train.values, Y_Train.values)\n",
    "Y_pred = clf.predict(X_Test.values)\n",
    "print(met.classification_report(Y_Test, Y_pred))"
   ]
  },
  {
   "cell_type": "code",
   "execution_count": 57,
   "metadata": {},
   "outputs": [
    {
     "data": {
      "text/plain": [
       "array([[24455, 14350],\n",
       "       [10900, 52795]], dtype=int64)"
      ]
     },
     "execution_count": 57,
     "metadata": {},
     "output_type": "execute_result"
    },
    {
     "data": {
      "image/png": "[encoded data removed]",
      "text/plain": [
       "<Figure size 432x288 with 2 Axes>"
      ]
     },
     "metadata": {
      "needs_background": "light"
     },
     "output_type": "display_data"
    }
   ],
   "source": [
    "sns.heatmap(met.confusion_matrix(Y_Test, Y_pred),annot=True)\n",
    "met.confusion_matrix(Y_Test, Y_pred)"
   ]
  },
  {
   "attachments": {},
   "cell_type": "markdown",
   "metadata": {},
   "source": [
    "### Rendimiento del modelo arrojado por el pipeline"
   ]
  },
  {
   "cell_type": "code",
   "execution_count": 58,
   "metadata": {},
   "outputs": [
    {
     "name": "stdout",
     "output_type": "stream",
     "text": [
      "              precision    recall  f1-score   support\n",
      "\n",
      "           0       0.69      0.69      0.69     38805\n",
      "           1       0.81      0.81      0.81     63695\n",
      "\n",
      "    accuracy                           0.77    102500\n",
      "   macro avg       0.75      0.75      0.75    102500\n",
      "weighted avg       0.77      0.77      0.77    102500\n",
      "\n"
     ]
    }
   ],
   "source": [
    "best_pipe = joblib.load('Mejor_pipeline.pkl')\n",
    "best_pipe.fit(X_Train.values, Y_Train.values)\n",
    "Y_pred = best_pipe.predict(X_Test.values)\n",
    "print(met.classification_report(Y_Test, Y_pred))"
   ]
  },
  {
   "cell_type": "code",
   "execution_count": 59,
   "metadata": {},
   "outputs": [
    {
     "data": {
      "text/plain": [
       "array([[26789, 12016],\n",
       "       [11919, 51776]], dtype=int64)"
      ]
     },
     "execution_count": 59,
     "metadata": {},
     "output_type": "execute_result"
    },
    {
     "data": {
      "image/png": "[encoded data removed]",
      "text/plain": [
       "<Figure size 432x288 with 2 Axes>"
      ]
     },
     "metadata": {
      "needs_background": "light"
     },
     "output_type": "display_data"
    }
   ],
   "source": [
    "sns.heatmap(met.confusion_matrix(Y_Test, Y_pred),annot=True)\n",
    "met.confusion_matrix(Y_Test, Y_pred)"
   ]
  },
  {
   "attachments": {},
   "cell_type": "markdown",
   "metadata": {},
   "source": [
    "Como podemos observar, el modelo entregado por el pipeline es más equilibrado"
   ]
  },
  {
   "cell_type": "code",
   "execution_count": 66,
   "metadata": {},
   "outputs": [
    {
     "data": {
      "text/plain": [
       "array([5.07251970e-02, 1.71095245e-03, 5.76546820e-01, 1.36351646e-02,\n",
       "       2.16684275e-02, 1.00687218e-01, 2.42466649e-04, 1.03976925e-01,\n",
       "       4.24680763e-02, 5.16992378e-02, 6.18302787e-04, 1.94613953e-04,\n",
       "       2.21607941e-03, 7.03264799e-05, 1.85298595e-03, 1.15657585e-04,\n",
       "       7.08728984e-03, 0.00000000e+00, 0.00000000e+00, 0.00000000e+00,\n",
       "       5.31014337e-04, 1.21847888e-03, 0.00000000e+00, 6.13587778e-04,\n",
       "       0.00000000e+00, 1.95263802e-04, 5.25227324e-05, 1.74405274e-05,\n",
       "       1.53160395e-04, 7.72854960e-03, 1.05120910e-02, 2.12969155e-03,\n",
       "       1.87757048e-04, 1.11168255e-04, 1.38518245e-04, 2.49853820e-04,\n",
       "       3.77517331e-04, 2.67643432e-04])"
      ]
     },
     "execution_count": 66,
     "metadata": {},
     "output_type": "execute_result"
    }
   ],
   "source": [
    "# Como adicional, queremos saber qué features fueron las que le sirvieron al árbol, y cuáles se podrían haber eliminado\n",
    "clf.feature_importances_"
   ]
  },
  {
   "cell_type": "code",
   "execution_count": 65,
   "metadata": {},
   "outputs": [
    {
     "data": {
      "image/png": "[encoded data removed]",
      "text/plain": [
       "<Figure size 1224x576 with 1 Axes>"
      ]
     },
     "metadata": {
      "needs_background": "light"
     },
     "output_type": "display_data"
    }
   ],
   "source": [
    "# Ploteamos la importancia de los atributos elegidos a la hora de hacer la predicción\n",
    "plt.figure(figsize = (17,8))\n",
    "importances = clf.feature_importances_\n",
    "columns = X.columns\n",
    "sns.barplot(x = columns, y = importances)\n",
    "plt.xlabel(\"Feature Importance\")\n",
    "plt.title('Importancia de cada feature', fontsize = 15)\n",
    "plt.show()"
   ]
  },
  {
   "attachments": {},
   "cell_type": "markdown",
   "metadata": {},
   "source": [
    "Este gráfico nos muestra que el árbol podría hacerse con 7-8 features con un resultado muy similar"
   ]
  },
  {
   "attachments": {},
   "cell_type": "markdown",
   "metadata": {},
   "source": [
    "## Predicción"
   ]
  },
  {
   "cell_type": "code",
   "execution_count": 68,
   "metadata": {},
   "outputs": [],
   "source": [
    "# Realizamos la predicción para el dataset Test\n",
    "X = Test_df\n",
    "y_pred = best_pipe.predict(X.values)"
   ]
  },
  {
   "cell_type": "code",
   "execution_count": 69,
   "metadata": {},
   "outputs": [
    {
     "data": {
      "text/plain": [
       "(90000,)"
      ]
     },
     "execution_count": 69,
     "metadata": {},
     "output_type": "execute_result"
    }
   ],
   "source": [
    "# Evaluamos la cantidad de datos\n",
    "y_pred.shape"
   ]
  },
  {
   "cell_type": "code",
   "execution_count": 70,
   "metadata": {},
   "outputs": [],
   "source": [
    "# Asignamos los datos al dataset\n",
    "Test_df['pred'] = y_pred"
   ]
  },
  {
   "cell_type": "code",
   "execution_count": 71,
   "metadata": {},
   "outputs": [
    {
     "data": {
      "text/html": [
       "<div>\n",
       "<style scoped>\n",
       "    .dataframe tbody tr th:only-of-type {\n",
       "        vertical-align: middle;\n",
       "    }\n",
       "\n",
       "    .dataframe tbody tr th {\n",
       "        vertical-align: top;\n",
       "    }\n",
       "\n",
       "    .dataframe thead th {\n",
       "        text-align: right;\n",
       "    }\n",
       "</style>\n",
       "<table border=\"1\" class=\"dataframe\">\n",
       "  <thead>\n",
       "    <tr style=\"text-align: right;\">\n",
       "      <th></th>\n",
       "      <th>available_extra_rooms_in_hospital</th>\n",
       "      <th>staff_available</th>\n",
       "      <th>age</th>\n",
       "      <th>severity_of_illness</th>\n",
       "      <th>visitors_with_patient</th>\n",
       "      <th>admission_deposit</th>\n",
       "      <th>department_TB &amp; Chest disease</th>\n",
       "      <th>department_anesthesia</th>\n",
       "      <th>department_gynecology</th>\n",
       "      <th>department_radiotherapy</th>\n",
       "      <th>...</th>\n",
       "      <th>type_of_admission_Emergency</th>\n",
       "      <th>type_of_admission_Trauma</th>\n",
       "      <th>type_of_admission_Urgent</th>\n",
       "      <th>health_conditions_Asthama</th>\n",
       "      <th>health_conditions_Diabetes</th>\n",
       "      <th>health_conditions_Heart disease</th>\n",
       "      <th>health_conditions_High Blood Pressure</th>\n",
       "      <th>health_conditions_None</th>\n",
       "      <th>health_conditions_Other</th>\n",
       "      <th>pred</th>\n",
       "    </tr>\n",
       "  </thead>\n",
       "  <tbody>\n",
       "    <tr>\n",
       "      <th>69935</th>\n",
       "      <td>3</td>\n",
       "      <td>0</td>\n",
       "      <td>1.0</td>\n",
       "      <td>1.0</td>\n",
       "      <td>2</td>\n",
       "      <td>4163.121469</td>\n",
       "      <td>0.0</td>\n",
       "      <td>0.0</td>\n",
       "      <td>1.0</td>\n",
       "      <td>0.0</td>\n",
       "      <td>...</td>\n",
       "      <td>1.0</td>\n",
       "      <td>0.0</td>\n",
       "      <td>0.0</td>\n",
       "      <td>1.0</td>\n",
       "      <td>0.0</td>\n",
       "      <td>0.0</td>\n",
       "      <td>0.0</td>\n",
       "      <td>0.0</td>\n",
       "      <td>0.0</td>\n",
       "      <td>0</td>\n",
       "    </tr>\n",
       "    <tr>\n",
       "      <th>76161</th>\n",
       "      <td>3</td>\n",
       "      <td>8</td>\n",
       "      <td>2.0</td>\n",
       "      <td>2.0</td>\n",
       "      <td>4</td>\n",
       "      <td>3572.200759</td>\n",
       "      <td>0.0</td>\n",
       "      <td>1.0</td>\n",
       "      <td>0.0</td>\n",
       "      <td>0.0</td>\n",
       "      <td>...</td>\n",
       "      <td>0.0</td>\n",
       "      <td>1.0</td>\n",
       "      <td>0.0</td>\n",
       "      <td>0.0</td>\n",
       "      <td>0.0</td>\n",
       "      <td>0.0</td>\n",
       "      <td>1.0</td>\n",
       "      <td>0.0</td>\n",
       "      <td>0.0</td>\n",
       "      <td>1</td>\n",
       "    </tr>\n",
       "    <tr>\n",
       "      <th>10245</th>\n",
       "      <td>3</td>\n",
       "      <td>6</td>\n",
       "      <td>2.0</td>\n",
       "      <td>2.0</td>\n",
       "      <td>2</td>\n",
       "      <td>3786.580847</td>\n",
       "      <td>0.0</td>\n",
       "      <td>0.0</td>\n",
       "      <td>1.0</td>\n",
       "      <td>0.0</td>\n",
       "      <td>...</td>\n",
       "      <td>1.0</td>\n",
       "      <td>0.0</td>\n",
       "      <td>0.0</td>\n",
       "      <td>0.0</td>\n",
       "      <td>0.0</td>\n",
       "      <td>0.0</td>\n",
       "      <td>0.0</td>\n",
       "      <td>1.0</td>\n",
       "      <td>0.0</td>\n",
       "      <td>0</td>\n",
       "    </tr>\n",
       "    <tr>\n",
       "      <th>33130</th>\n",
       "      <td>3</td>\n",
       "      <td>5</td>\n",
       "      <td>3.0</td>\n",
       "      <td>2.0</td>\n",
       "      <td>6</td>\n",
       "      <td>5049.660390</td>\n",
       "      <td>0.0</td>\n",
       "      <td>0.0</td>\n",
       "      <td>1.0</td>\n",
       "      <td>0.0</td>\n",
       "      <td>...</td>\n",
       "      <td>0.0</td>\n",
       "      <td>0.0</td>\n",
       "      <td>1.0</td>\n",
       "      <td>0.0</td>\n",
       "      <td>0.0</td>\n",
       "      <td>1.0</td>\n",
       "      <td>0.0</td>\n",
       "      <td>0.0</td>\n",
       "      <td>0.0</td>\n",
       "      <td>0</td>\n",
       "    </tr>\n",
       "    <tr>\n",
       "      <th>43614</th>\n",
       "      <td>5</td>\n",
       "      <td>8</td>\n",
       "      <td>2.0</td>\n",
       "      <td>2.0</td>\n",
       "      <td>5</td>\n",
       "      <td>3090.075360</td>\n",
       "      <td>0.0</td>\n",
       "      <td>0.0</td>\n",
       "      <td>1.0</td>\n",
       "      <td>0.0</td>\n",
       "      <td>...</td>\n",
       "      <td>1.0</td>\n",
       "      <td>0.0</td>\n",
       "      <td>0.0</td>\n",
       "      <td>0.0</td>\n",
       "      <td>0.0</td>\n",
       "      <td>0.0</td>\n",
       "      <td>0.0</td>\n",
       "      <td>1.0</td>\n",
       "      <td>0.0</td>\n",
       "      <td>1</td>\n",
       "    </tr>\n",
       "  </tbody>\n",
       "</table>\n",
       "<p>5 rows × 39 columns</p>\n",
       "</div>"
      ],
      "text/plain": [
       "       available_extra_rooms_in_hospital  staff_available  age  \\\n",
       "69935                                  3                0  1.0   \n",
       "76161                                  3                8  2.0   \n",
       "10245                                  3                6  2.0   \n",
       "33130                                  3                5  3.0   \n",
       "43614                                  5                8  2.0   \n",
       "\n",
       "       severity_of_illness  visitors_with_patient  admission_deposit  \\\n",
       "69935                  1.0                      2        4163.121469   \n",
       "76161                  2.0                      4        3572.200759   \n",
       "10245                  2.0                      2        3786.580847   \n",
       "33130                  2.0                      6        5049.660390   \n",
       "43614                  2.0                      5        3090.075360   \n",
       "\n",
       "       department_TB & Chest disease  department_anesthesia  \\\n",
       "69935                            0.0                    0.0   \n",
       "76161                            0.0                    1.0   \n",
       "10245                            0.0                    0.0   \n",
       "33130                            0.0                    0.0   \n",
       "43614                            0.0                    0.0   \n",
       "\n",
       "       department_gynecology  department_radiotherapy  ...  \\\n",
       "69935                    1.0                      0.0  ...   \n",
       "76161                    0.0                      0.0  ...   \n",
       "10245                    1.0                      0.0  ...   \n",
       "33130                    1.0                      0.0  ...   \n",
       "43614                    1.0                      0.0  ...   \n",
       "\n",
       "       type_of_admission_Emergency  type_of_admission_Trauma  \\\n",
       "69935                          1.0                       0.0   \n",
       "76161                          0.0                       1.0   \n",
       "10245                          1.0                       0.0   \n",
       "33130                          0.0                       0.0   \n",
       "43614                          1.0                       0.0   \n",
       "\n",
       "       type_of_admission_Urgent  health_conditions_Asthama  \\\n",
       "69935                       0.0                        1.0   \n",
       "76161                       0.0                        0.0   \n",
       "10245                       0.0                        0.0   \n",
       "33130                       1.0                        0.0   \n",
       "43614                       0.0                        0.0   \n",
       "\n",
       "       health_conditions_Diabetes  health_conditions_Heart disease  \\\n",
       "69935                         0.0                              0.0   \n",
       "76161                         0.0                              0.0   \n",
       "10245                         0.0                              0.0   \n",
       "33130                         0.0                              1.0   \n",
       "43614                         0.0                              0.0   \n",
       "\n",
       "       health_conditions_High Blood Pressure  health_conditions_None  \\\n",
       "69935                                    0.0                     0.0   \n",
       "76161                                    1.0                     0.0   \n",
       "10245                                    0.0                     1.0   \n",
       "33130                                    0.0                     0.0   \n",
       "43614                                    0.0                     1.0   \n",
       "\n",
       "       health_conditions_Other  pred  \n",
       "69935                      0.0     0  \n",
       "76161                      0.0     1  \n",
       "10245                      0.0     0  \n",
       "33130                      0.0     0  \n",
       "43614                      0.0     1  \n",
       "\n",
       "[5 rows x 39 columns]"
      ]
     },
     "execution_count": 71,
     "metadata": {},
     "output_type": "execute_result"
    }
   ],
   "source": [
    "# Revisamos los resultados obtenidos\n",
    "Test_df.sample(5)"
   ]
  },
  {
   "cell_type": "code",
   "execution_count": 72,
   "metadata": {},
   "outputs": [
    {
     "data": {
      "text/plain": [
       "1    56133\n",
       "0    33867\n",
       "Name: pred, dtype: int64"
      ]
     },
     "execution_count": 72,
     "metadata": {},
     "output_type": "execute_result"
    }
   ],
   "source": [
    "# Contamos la cantidad de resultados\n",
    "Test_df.pred.value_counts()"
   ]
  },
  {
   "cell_type": "code",
   "execution_count": 73,
   "metadata": {},
   "outputs": [],
   "source": [
    "# Tomamos únicamente la columna con las predicciones\n",
    "result = Test_df.pred"
   ]
  },
  {
   "cell_type": "code",
   "execution_count": 74,
   "metadata": {},
   "outputs": [],
   "source": [
    "# Exportamos la columna a un csv de acuerdo a la consigna del proyecto\n",
    "result.to_csv(r'C:\\Users\\eugen\\Documents\\Guille\\Bootcamp\\PI02_Datathon\\Datasets\\fernandezguille.csv', index=False)"
   ]
  },
  {
   "attachments": {},
   "cell_type": "markdown",
   "metadata": {},
   "source": [
    "## Conclusiones finales"
   ]
  },
  {
   "attachments": {},
   "cell_type": "markdown",
   "metadata": {},
   "source": [
    "Luego de realizar varias pruebas, con diferentes métodos (dummies, OHE, LE, ORE), este modelo fue el que mejor accuracy y recall tuvo, sin tener overfitting.  \n",
    "Muchas de las columnas tenían una relación con la estadía, como se vió con el P_valor, pero el resultado solo mejora un poco a comparación de realizar el árbol con sólo 3 features. Esto se ve muchísimo en el gráfico que mide el peso de las mismas.\n",
    "Al recibir el feedback del modelo, los valores logrados de las métricas son:\n",
    "+ Accuracy: 0.7512\n",
    "+ Recall:   0.7847"
   ]
  }
 ],
 "metadata": {
  "kernelspec": {
   "display_name": "Python 3",
   "language": "python",
   "name": "python3"
  },
  "language_info": {
   "codemirror_mode": {
    "name": "ipython",
    "version": 3
   },
   "file_extension": ".py",
   "mimetype": "text/x-python",
   "name": "python",
   "nbconvert_exporter": "python",
   "pygments_lexer": "ipython3",
   "version": "3.10.5"
  },
  "orig_nbformat": 4,
  "vscode": {
   "interpreter": {
    "hash": "8030d4c8b54922542ddcca872d6eaa3b90843e3fd85d80bb02c262de6532e63b"
   }
  }
 },
 "nbformat": 4,
 "nbformat_minor": 2
}
